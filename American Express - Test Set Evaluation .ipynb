{
 "cells": [
  {
   "cell_type": "code",
   "execution_count": 1,
   "id": "191674b9",
   "metadata": {},
   "outputs": [],
   "source": [
    "import pandas as pd\n",
    "import seaborn as sns\n",
    "import numpy as np\n",
    "import scipy \n",
    "import pickle\n",
    "\n",
    "from sklearn.impute import SimpleImputer\n",
    "\n",
    "from xgboost import XGBClassifier\n",
    "\n",
    "from sklearn.metrics import accuracy_score\n",
    "\n",
    "#Change this line based on your PC configurations.\n",
    "path = \"C:/Users/Arikhan Arik/Desktop/American Express - Default Prediction/Data/\"\n",
    "\n",
    "# Change this line based on your PC configurations.\n",
    "model_path = \"C:/Users/Arikhan Arik/Desktop/American Express - Default Prediction/Model/\""
   ]
  },
  {
   "cell_type": "code",
   "execution_count": 2,
   "id": "275b96c0",
   "metadata": {},
   "outputs": [],
   "source": [
    "test_data1 = pd.read_parquet(path + \"test_data1.parquet\")\n",
    "test_data2 = pd.read_parquet(path + \"test_data2.parquet\")\n",
    "test_df = pd.concat([test_data1, test_data2])\n",
    "del test_data1\n",
    "del test_data2 "
   ]
  },
  {
   "cell_type": "code",
   "execution_count": 3,
   "id": "c90d5fba",
   "metadata": {},
   "outputs": [],
   "source": [
    "# Apply memory reduction for df_test since the data is way too big for memory in default settings.\n",
    "for column in test_df.select_dtypes(include=['int']).columns:\n",
    "    if test_df[column].max() <= np.iinfo(np.int8).max and test_df[column].min() >= np.iinfo(np.int8).min:\n",
    "        test_df[column] = test_df[column].astype('int8')\n",
    "    elif test_df[column].max() <= np.iinfo(np.int16).max and test_df[column].min() >= np.iinfo(np.int16).min:\n",
    "        test_df[column] = test_df[column].astype('int16')\n",
    "    elif test_df[column].max() <= np.iinfo(np.int32).max and test_df[column].min() >= np.iinfo(np.int32).min:\n",
    "        test_df[column] = test_df[column].astype('int32')\n",
    "\n",
    "for column in test_df.select_dtypes(include=['float']).columns:\n",
    "    if test_df[column].max() <= np.finfo(np.float16).max and test_df[column].min() >= np.finfo(np.float16).min:\n",
    "        test_df[column] = test_df[column].astype('float16')\n",
    "    elif test_df[column].max() <= np.finfo(np.float32).max and test_df[column].min() >= np.finfo(np.float32).min:\n",
    "        test_df[column] = test_df[column].astype('float32')"
   ]
  },
  {
   "cell_type": "code",
   "execution_count": 4,
   "id": "3b0bfc99",
   "metadata": {},
   "outputs": [
    {
     "name": "stdout",
     "output_type": "stream",
     "text": [
      "<class 'pandas.core.frame.DataFrame'>\n",
      "RangeIndex: 11363762 entries, 0 to 11363761\n",
      "Columns: 190 entries, customer_ID to D_145\n",
      "dtypes: float32(177), object(13)\n",
      "memory usage: 8.6+ GB\n"
     ]
    }
   ],
   "source": [
    "test_df.info()"
   ]
  },
  {
   "cell_type": "code",
   "execution_count": 5,
   "id": "b388bad0",
   "metadata": {},
   "outputs": [],
   "source": [
    "test_df['S_2'] = test_df['S_2'].str.replace(\"-\", \"\").str[0:6]"
   ]
  },
  {
   "cell_type": "code",
   "execution_count": 6,
   "id": "7ffff59d",
   "metadata": {},
   "outputs": [],
   "source": [
    "# in order to make the datasets equal, we need to eliminate these columns since we already did it in train set.\n",
    "train_drop_list = [\"D_87\",\"D_88\",\"D_108\",\"D_111\",\"D_110\",\"B_39\",\"D_73\",\"B_42\",\"D_134\",\"D_135\",\"D_136\",\"D_137\",\"D_138\",\"R_9\",\"B_29\",\"D_106\",\"D_132\",\"D_49\",\"R_26\",\"D_76\",\"D_66\",\"D_42\",\"D_142\",\"D_53\",\"D_82\",\"D_50\",\"B_17\",\"D_105\",\"D_56\",\"S_9\"]\n",
    "test_df.drop(train_drop_list, axis = 1, inplace = True)"
   ]
  },
  {
   "cell_type": "code",
   "execution_count": 7,
   "id": "5811b57b",
   "metadata": {},
   "outputs": [
    {
     "data": {
      "text/plain": [
       "D_77     49.040318\n",
       "D_43     30.030777\n",
       "S_27     22.002177\n",
       "D_46     20.214723\n",
       "D_62     16.645139\n",
       "S_3      15.320323\n",
       "S_7      15.320323\n",
       "D_48     12.734656\n",
       "D_61     10.913296\n",
       "D_55      6.538090\n",
       "R_27      5.838771\n",
       "D_44      4.735800\n",
       "D_78      4.735800\n",
       "P_3       3.947452\n",
       "D_91      3.875451\n",
       "D_64      3.324938\n",
       "D_68      3.066731\n",
       "D_69      2.536766\n",
       "D_83      2.536766\n",
       "D_123     2.501293\n",
       "D_122     2.501293\n",
       "D_124     2.501293\n",
       "D_119     2.501293\n",
       "D_125     2.501293\n",
       "D_118     2.501293\n",
       "D_114     2.501293\n",
       "D_117     2.501293\n",
       "D_116     2.501293\n",
       "D_115     2.501293\n",
       "D_121     2.501293\n",
       "dtype: float64"
      ]
     },
     "execution_count": 7,
     "metadata": {},
     "output_type": "execute_result"
    }
   ],
   "source": [
    "null_percentages = test_df.isnull().sum() * 100 / len(test_df)\n",
    "null_percentages.sort_values(ascending = False).head(30)"
   ]
  },
  {
   "cell_type": "markdown",
   "id": "e3b50d03",
   "metadata": {},
   "source": [
    "# Categorical data null analysis and conversion"
   ]
  },
  {
   "cell_type": "code",
   "execution_count": 8,
   "id": "1255504d",
   "metadata": {},
   "outputs": [],
   "source": [
    "# Find the columns that contains the categorical values.\n",
    "cat_columns = list(test_df.select_dtypes('object').columns)"
   ]
  },
  {
   "cell_type": "code",
   "execution_count": 9,
   "id": "7f08acc9",
   "metadata": {},
   "outputs": [
    {
     "data": {
      "text/plain": [
       "D_64           3.324938\n",
       "D_68           3.066731\n",
       "D_114          2.501293\n",
       "D_116          2.501293\n",
       "D_117          2.501293\n",
       "D_120          2.501293\n",
       "D_126          0.725121\n",
       "B_30           0.025669\n",
       "B_38           0.025669\n",
       "customer_ID    0.000000\n",
       "S_2            0.000000\n",
       "D_63           0.000000\n",
       "dtype: float64"
      ]
     },
     "execution_count": 9,
     "metadata": {},
     "output_type": "execute_result"
    }
   ],
   "source": [
    "# Calculate and sort the null percentages for each column.\n",
    "null_percentages = test_df[cat_columns].isnull().sum() * 100 / len(test_df)\n",
    "null_percentages.sort_values(ascending = False).head(30)"
   ]
  },
  {
   "cell_type": "code",
   "execution_count": 10,
   "id": "d3167718",
   "metadata": {},
   "outputs": [
    {
     "data": {
      "text/plain": [
       "O    5993483\n",
       "U    2952811\n",
       "R    2039630\n",
       "Name: D_64, dtype: int64"
      ]
     },
     "execution_count": 10,
     "metadata": {},
     "output_type": "execute_result"
    }
   ],
   "source": [
    "# Check the value frequencies for D_64 column.\n",
    "test_df.D_64.value_counts()"
   ]
  },
  {
   "cell_type": "code",
   "execution_count": 11,
   "id": "0fa2435b",
   "metadata": {},
   "outputs": [],
   "source": [
    "# Fill the Null values as NA, since it is a deliquency (minor crime, especially that committed by young people.) field.\n",
    "test_df.D_64.fillna(\"NA\", inplace = True)\n",
    "test_df.D_64 = test_df.D_64.str.replace(\"-1\", \"NA\")"
   ]
  },
  {
   "cell_type": "code",
   "execution_count": 12,
   "id": "ed83df0f",
   "metadata": {},
   "outputs": [
    {
     "data": {
      "text/plain": [
       "O     5993483\n",
       "U     2952811\n",
       "R     2039630\n",
       "NA     377838\n",
       "Name: D_64, dtype: int64"
      ]
     },
     "execution_count": 12,
     "metadata": {},
     "output_type": "execute_result"
    }
   ],
   "source": [
    "# Normalized by the meaning of value counts.\n",
    "test_df.D_64.value_counts()"
   ]
  },
  {
   "cell_type": "code",
   "execution_count": 13,
   "id": "c0732c75",
   "metadata": {},
   "outputs": [
    {
     "data": {
      "text/plain": [
       "6.0    5623121\n",
       "5.0    2595202\n",
       "4.0    1038014\n",
       "3.0    1002553\n",
       "2.0     487288\n",
       "1.0     269088\n",
       "Name: D_68, dtype: int64"
      ]
     },
     "execution_count": 13,
     "metadata": {},
     "output_type": "execute_result"
    }
   ],
   "source": [
    "# Check the value frequencies for D_68 column.\n",
    "test_df.D_68.value_counts()"
   ]
  },
  {
   "cell_type": "code",
   "execution_count": 14,
   "id": "2f4302ff",
   "metadata": {},
   "outputs": [],
   "source": [
    "# The field is categorical, however we observe some numeric values. It might be because of many things.\n",
    "# We could put -1 as representative for Null values.\n",
    "test_df.D_68.fillna(\"-1\", inplace = True)"
   ]
  },
  {
   "cell_type": "code",
   "execution_count": 15,
   "id": "8ce152e0",
   "metadata": {},
   "outputs": [
    {
     "data": {
      "text/plain": [
       "6.0    5623121\n",
       "5.0    2595202\n",
       "4.0    1038014\n",
       "3.0    1002553\n",
       "2.0     487288\n",
       "-1      348496\n",
       "1.0     269088\n",
       "Name: D_68, dtype: int64"
      ]
     },
     "execution_count": 15,
     "metadata": {},
     "output_type": "execute_result"
    }
   ],
   "source": [
    "# Check the value frequencies for D_68 column.\n",
    "test_df.D_68.value_counts()"
   ]
  },
  {
   "cell_type": "code",
   "execution_count": 16,
   "id": "fe451ef1",
   "metadata": {},
   "outputs": [
    {
     "data": {
      "text/plain": [
       "1.0    6957846\n",
       "0.0    4121675\n",
       "Name: D_114, dtype: int64"
      ]
     },
     "execution_count": 16,
     "metadata": {},
     "output_type": "execute_result"
    }
   ],
   "source": [
    "# For the columns D_114, D_116, D_117, D_120 the null percentage is the same, which is interesting, again!\n",
    "# Let's see if the null values are actually on the same rows. That would mean that those feature could be conditionally dependent.\n",
    "test_df.D_114.value_counts()"
   ]
  },
  {
   "cell_type": "code",
   "execution_count": 17,
   "id": "de4a7722",
   "metadata": {},
   "outputs": [],
   "source": [
    "test_df.D_114.fillna(\"-1\", inplace = True)"
   ]
  },
  {
   "cell_type": "code",
   "execution_count": 18,
   "id": "5629e81f",
   "metadata": {},
   "outputs": [
    {
     "data": {
      "text/plain": [
       "1.0    6957846\n",
       "0.0    4121675\n",
       "-1      284241\n",
       "Name: D_114, dtype: int64"
      ]
     },
     "execution_count": 18,
     "metadata": {},
     "output_type": "execute_result"
    }
   ],
   "source": [
    "test_df.D_114.value_counts()"
   ]
  },
  {
   "cell_type": "code",
   "execution_count": 19,
   "id": "9bc81aa9",
   "metadata": {},
   "outputs": [
    {
     "data": {
      "text/plain": [
       "0.0    11048854\n",
       "1.0       30667\n",
       "Name: D_116, dtype: int64"
      ]
     },
     "execution_count": 19,
     "metadata": {},
     "output_type": "execute_result"
    }
   ],
   "source": [
    "test_df.D_116.value_counts()"
   ]
  },
  {
   "cell_type": "code",
   "execution_count": 20,
   "id": "334362cc",
   "metadata": {},
   "outputs": [],
   "source": [
    "test_df.D_116.fillna(\"-1\", inplace = True)"
   ]
  },
  {
   "cell_type": "code",
   "execution_count": 21,
   "id": "7539e170",
   "metadata": {},
   "outputs": [
    {
     "data": {
      "text/plain": [
       "0.0    11048854\n",
       "-1       284241\n",
       "1.0       30667\n",
       "Name: D_116, dtype: int64"
      ]
     },
     "execution_count": 21,
     "metadata": {},
     "output_type": "execute_result"
    }
   ],
   "source": [
    "test_df.D_116.value_counts()"
   ]
  },
  {
   "cell_type": "code",
   "execution_count": 22,
   "id": "7fe1a2a7",
   "metadata": {},
   "outputs": [
    {
     "data": {
      "text/plain": [
       "-1.0    3097065\n",
       "4.0     2430697\n",
       "3.0     2303759\n",
       "2.0     1244980\n",
       "5.0      990268\n",
       "6.0      796506\n",
       "1.0      216246\n",
       "Name: D_117, dtype: int64"
      ]
     },
     "execution_count": 22,
     "metadata": {},
     "output_type": "execute_result"
    }
   ],
   "source": [
    "test_df.D_117.value_counts()"
   ]
  },
  {
   "cell_type": "code",
   "execution_count": 23,
   "id": "69692564",
   "metadata": {},
   "outputs": [],
   "source": [
    "# Filling with -2 because we already have -1. I reckon -1 also has a special meaning, however it is the most frequent value.\n",
    "# Therefore for now we will keep it as -1 and nulls will be -2. This could be changed at other iterations.\n",
    "test_df.D_117.fillna(\"-2\", inplace = True)"
   ]
  },
  {
   "cell_type": "code",
   "execution_count": 24,
   "id": "8b1cafc7",
   "metadata": {},
   "outputs": [
    {
     "data": {
      "text/plain": [
       "-1.0    3097065\n",
       "4.0     2430697\n",
       "3.0     2303759\n",
       "2.0     1244980\n",
       "5.0      990268\n",
       "6.0      796506\n",
       "-2       284241\n",
       "1.0      216246\n",
       "Name: D_117, dtype: int64"
      ]
     },
     "execution_count": 24,
     "metadata": {},
     "output_type": "execute_result"
    }
   ],
   "source": [
    "test_df.D_117.value_counts()"
   ]
  },
  {
   "cell_type": "code",
   "execution_count": 25,
   "id": "70b4ed3a",
   "metadata": {},
   "outputs": [
    {
     "data": {
      "text/plain": [
       "0.0    8803450\n",
       "1.0    2276071\n",
       "Name: D_120, dtype: int64"
      ]
     },
     "execution_count": 25,
     "metadata": {},
     "output_type": "execute_result"
    }
   ],
   "source": [
    "test_df.D_120.value_counts()"
   ]
  },
  {
   "cell_type": "code",
   "execution_count": 26,
   "id": "800ef05e",
   "metadata": {},
   "outputs": [],
   "source": [
    "test_df.D_120.fillna(\"-1\", inplace = True)"
   ]
  },
  {
   "cell_type": "code",
   "execution_count": 27,
   "id": "2f9d61f0",
   "metadata": {},
   "outputs": [
    {
     "data": {
      "text/plain": [
       "0.0    8803450\n",
       "1.0    2276071\n",
       "-1      284241\n",
       "Name: D_120, dtype: int64"
      ]
     },
     "execution_count": 27,
     "metadata": {},
     "output_type": "execute_result"
    }
   ],
   "source": [
    "test_df.D_120.value_counts()"
   ]
  },
  {
   "cell_type": "code",
   "execution_count": 28,
   "id": "2073b63d",
   "metadata": {},
   "outputs": [
    {
     "data": {
      "text/plain": [
       "1.0     8628867\n",
       "0.0     2343069\n",
       "-1.0     309425\n",
       "Name: D_126, dtype: int64"
      ]
     },
     "execution_count": 28,
     "metadata": {},
     "output_type": "execute_result"
    }
   ],
   "source": [
    "test_df.D_126.value_counts()"
   ]
  },
  {
   "cell_type": "code",
   "execution_count": 29,
   "id": "e1f93708",
   "metadata": {},
   "outputs": [],
   "source": [
    "test_df.D_126.fillna(\"-2\", inplace = True)"
   ]
  },
  {
   "cell_type": "code",
   "execution_count": 30,
   "id": "267519ab",
   "metadata": {},
   "outputs": [
    {
     "data": {
      "text/plain": [
       "1.0     8628867\n",
       "0.0     2343069\n",
       "-1.0     309425\n",
       "-2        82401\n",
       "Name: D_126, dtype: int64"
      ]
     },
     "execution_count": 30,
     "metadata": {},
     "output_type": "execute_result"
    }
   ],
   "source": [
    "test_df.D_126.value_counts()"
   ]
  },
  {
   "cell_type": "code",
   "execution_count": 31,
   "id": "f6f6b2db",
   "metadata": {},
   "outputs": [
    {
     "data": {
      "text/plain": [
       "0.0    9618034\n",
       "1.0    1640895\n",
       "2.0     101916\n",
       "Name: B_30, dtype: int64"
      ]
     },
     "execution_count": 31,
     "metadata": {},
     "output_type": "execute_result"
    }
   ],
   "source": [
    "test_df.B_30.value_counts()"
   ]
  },
  {
   "cell_type": "code",
   "execution_count": 32,
   "id": "3a15844b",
   "metadata": {},
   "outputs": [],
   "source": [
    "test_df.B_30.fillna(\"-1\", inplace = True)"
   ]
  },
  {
   "cell_type": "code",
   "execution_count": 33,
   "id": "5a758163",
   "metadata": {},
   "outputs": [
    {
     "data": {
      "text/plain": [
       "0.0    9618034\n",
       "1.0    1640895\n",
       "2.0     101916\n",
       "-1        2917\n",
       "Name: B_30, dtype: int64"
      ]
     },
     "execution_count": 33,
     "metadata": {},
     "output_type": "execute_result"
    }
   ],
   "source": [
    "test_df.B_30.value_counts()"
   ]
  },
  {
   "cell_type": "code",
   "execution_count": 34,
   "id": "3708dbac",
   "metadata": {},
   "outputs": [
    {
     "data": {
      "text/plain": [
       "2.0    4133804\n",
       "3.0    2775020\n",
       "1.0    2088714\n",
       "5.0     876286\n",
       "7.0     636911\n",
       "4.0     494281\n",
       "6.0     355829\n",
       "Name: B_38, dtype: int64"
      ]
     },
     "execution_count": 34,
     "metadata": {},
     "output_type": "execute_result"
    }
   ],
   "source": [
    "test_df.B_38.value_counts()"
   ]
  },
  {
   "cell_type": "code",
   "execution_count": 35,
   "id": "0d15634c",
   "metadata": {},
   "outputs": [],
   "source": [
    "test_df.B_38.fillna(\"-1\", inplace = True)"
   ]
  },
  {
   "cell_type": "code",
   "execution_count": 36,
   "id": "e6184be6",
   "metadata": {},
   "outputs": [
    {
     "data": {
      "text/plain": [
       "2.0    4133804\n",
       "3.0    2775020\n",
       "1.0    2088714\n",
       "5.0     876286\n",
       "7.0     636911\n",
       "4.0     494281\n",
       "6.0     355829\n",
       "-1        2917\n",
       "Name: B_38, dtype: int64"
      ]
     },
     "execution_count": 36,
     "metadata": {},
     "output_type": "execute_result"
    }
   ],
   "source": [
    "test_df.B_38.value_counts()"
   ]
  },
  {
   "cell_type": "code",
   "execution_count": 37,
   "id": "b681f0f9",
   "metadata": {},
   "outputs": [],
   "source": [
    "customer_ids = test_df['customer_ID']\n",
    "test_df.drop(\"customer_ID\", axis = 1,inplace = True)"
   ]
  },
  {
   "cell_type": "code",
   "execution_count": 38,
   "id": "1ab3c58c",
   "metadata": {},
   "outputs": [
    {
     "data": {
      "text/plain": [
       "CO    8429213\n",
       "CR    1830418\n",
       "CL     917817\n",
       "XZ     109754\n",
       "XM      49717\n",
       "XL      26843\n",
       "Name: D_63, dtype: int64"
      ]
     },
     "execution_count": 38,
     "metadata": {},
     "output_type": "execute_result"
    }
   ],
   "source": [
    "test_df.D_63.value_counts()"
   ]
  },
  {
   "cell_type": "code",
   "execution_count": 39,
   "id": "3c813e3b",
   "metadata": {},
   "outputs": [
    {
     "data": {
      "text/plain": [
       "['S_2',\n",
       " 'D_63',\n",
       " 'D_64',\n",
       " 'D_68',\n",
       " 'B_30',\n",
       " 'B_38',\n",
       " 'D_114',\n",
       " 'D_116',\n",
       " 'D_117',\n",
       " 'D_120',\n",
       " 'D_126']"
      ]
     },
     "execution_count": 39,
     "metadata": {},
     "output_type": "execute_result"
    }
   ],
   "source": [
    "cat_columns.remove(\"customer_ID\")\n",
    "cat_columns"
   ]
  },
  {
   "cell_type": "code",
   "execution_count": 40,
   "id": "2c2c5a26",
   "metadata": {},
   "outputs": [],
   "source": [
    "# Time column is different, therefore we have to eliminate this column to avoid inconsistency.\n",
    "test_df.drop('S_2', axis = 1, inplace = True)"
   ]
  },
  {
   "cell_type": "code",
   "execution_count": 41,
   "id": "28cbb8af",
   "metadata": {},
   "outputs": [],
   "source": [
    "# The imputation done in a very easy way. Therefore, for the next iterations we could change our approach based on more analysis.\n",
    "# Now, it is time f<or the categorical --> numeric conversion.\n",
    "test_df = pd.get_dummies(test_df)"
   ]
  },
  {
   "cell_type": "code",
   "execution_count": 42,
   "id": "36712f0e",
   "metadata": {},
   "outputs": [
    {
     "name": "stdout",
     "output_type": "stream",
     "text": [
      "<class 'pandas.core.frame.DataFrame'>\n",
      "RangeIndex: 11363762 entries, 0 to 11363761\n",
      "Columns: 198 entries, P_2 to D_126_1.0\n",
      "dtypes: float32(148), uint8(50)\n",
      "memory usage: 6.8 GB\n"
     ]
    }
   ],
   "source": [
    "test_df.info()"
   ]
  },
  {
   "cell_type": "markdown",
   "id": "ecb13ffb",
   "metadata": {},
   "source": [
    "# Numeric value imputation"
   ]
  },
  {
   "cell_type": "code",
   "execution_count": 43,
   "id": "56ce994d",
   "metadata": {},
   "outputs": [],
   "source": [
    "# Find the columns that contains the categorical values.\n",
    "numeric_columns = list(test_df.select_dtypes('float32').columns)"
   ]
  },
  {
   "cell_type": "code",
   "execution_count": 44,
   "id": "d4ee37a7",
   "metadata": {},
   "outputs": [
    {
     "data": {
      "text/plain": [
       "['P_2',\n",
       " 'D_39',\n",
       " 'B_1',\n",
       " 'B_2',\n",
       " 'R_1',\n",
       " 'S_3',\n",
       " 'D_41',\n",
       " 'B_3',\n",
       " 'D_43',\n",
       " 'D_44',\n",
       " 'B_4',\n",
       " 'D_45',\n",
       " 'B_5',\n",
       " 'R_2',\n",
       " 'D_46',\n",
       " 'D_47',\n",
       " 'D_48',\n",
       " 'B_6',\n",
       " 'B_7',\n",
       " 'B_8',\n",
       " 'D_51',\n",
       " 'B_9',\n",
       " 'R_3',\n",
       " 'D_52',\n",
       " 'P_3',\n",
       " 'B_10',\n",
       " 'S_5',\n",
       " 'B_11',\n",
       " 'S_6',\n",
       " 'D_54',\n",
       " 'R_4',\n",
       " 'S_7',\n",
       " 'B_12',\n",
       " 'S_8',\n",
       " 'D_55',\n",
       " 'B_13',\n",
       " 'R_5',\n",
       " 'D_58',\n",
       " 'B_14',\n",
       " 'D_59',\n",
       " 'D_60',\n",
       " 'D_61',\n",
       " 'B_15',\n",
       " 'S_11',\n",
       " 'D_62',\n",
       " 'D_65',\n",
       " 'B_16',\n",
       " 'B_18',\n",
       " 'B_19',\n",
       " 'B_20',\n",
       " 'S_12',\n",
       " 'R_6',\n",
       " 'S_13',\n",
       " 'B_21',\n",
       " 'D_69',\n",
       " 'B_22',\n",
       " 'D_70',\n",
       " 'D_71',\n",
       " 'D_72',\n",
       " 'S_15',\n",
       " 'B_23',\n",
       " 'P_4',\n",
       " 'D_74',\n",
       " 'D_75',\n",
       " 'B_24',\n",
       " 'R_7',\n",
       " 'D_77',\n",
       " 'B_25',\n",
       " 'B_26',\n",
       " 'D_78',\n",
       " 'D_79',\n",
       " 'R_8',\n",
       " 'S_16',\n",
       " 'D_80',\n",
       " 'R_10',\n",
       " 'R_11',\n",
       " 'B_27',\n",
       " 'D_81',\n",
       " 'S_17',\n",
       " 'R_12',\n",
       " 'B_28',\n",
       " 'R_13',\n",
       " 'D_83',\n",
       " 'R_14',\n",
       " 'R_15',\n",
       " 'D_84',\n",
       " 'R_16',\n",
       " 'S_18',\n",
       " 'D_86',\n",
       " 'R_17',\n",
       " 'R_18',\n",
       " 'B_31',\n",
       " 'S_19',\n",
       " 'R_19',\n",
       " 'B_32',\n",
       " 'S_20',\n",
       " 'R_20',\n",
       " 'R_21',\n",
       " 'B_33',\n",
       " 'D_89',\n",
       " 'R_22',\n",
       " 'R_23',\n",
       " 'D_91',\n",
       " 'D_92',\n",
       " 'D_93',\n",
       " 'D_94',\n",
       " 'R_24',\n",
       " 'R_25',\n",
       " 'D_96',\n",
       " 'S_22',\n",
       " 'S_23',\n",
       " 'S_24',\n",
       " 'S_25',\n",
       " 'S_26',\n",
       " 'D_102',\n",
       " 'D_103',\n",
       " 'D_104',\n",
       " 'D_107',\n",
       " 'B_36',\n",
       " 'B_37',\n",
       " 'R_27',\n",
       " 'D_109',\n",
       " 'D_112',\n",
       " 'B_40',\n",
       " 'S_27',\n",
       " 'D_113',\n",
       " 'D_115',\n",
       " 'D_118',\n",
       " 'D_119',\n",
       " 'D_121',\n",
       " 'D_122',\n",
       " 'D_123',\n",
       " 'D_124',\n",
       " 'D_125',\n",
       " 'D_127',\n",
       " 'D_128',\n",
       " 'D_129',\n",
       " 'B_41',\n",
       " 'D_130',\n",
       " 'D_131',\n",
       " 'D_133',\n",
       " 'R_28',\n",
       " 'D_139',\n",
       " 'D_140',\n",
       " 'D_141',\n",
       " 'D_143',\n",
       " 'D_144',\n",
       " 'D_145']"
      ]
     },
     "execution_count": 44,
     "metadata": {},
     "output_type": "execute_result"
    }
   ],
   "source": [
    "numeric_columns"
   ]
  },
  {
   "cell_type": "code",
   "execution_count": 45,
   "id": "8571f6b8",
   "metadata": {},
   "outputs": [],
   "source": [
    "# Let's find and impute the missing values for each numeric values now to make the data \"ready\".\n",
    "imp_mean = SimpleImputer(missing_values=np.nan, strategy='mean')\n",
    "\n",
    "test_df[numeric_columns] = pd.DataFrame(imp_mean.fit_transform(test_df[numeric_columns]), columns = numeric_columns)"
   ]
  },
  {
   "cell_type": "code",
   "execution_count": 46,
   "id": "600776d9",
   "metadata": {},
   "outputs": [
    {
     "data": {
      "text/plain": [
       "0"
      ]
     },
     "execution_count": 46,
     "metadata": {},
     "output_type": "execute_result"
    }
   ],
   "source": [
    "# Test that we have no null values left, both for the numerical and categorical features. We expect max null values as \"0\".\n",
    "test_df.isna().sum().max()"
   ]
  },
  {
   "cell_type": "code",
   "execution_count": 47,
   "id": "511a0593",
   "metadata": {},
   "outputs": [
    {
     "data": {
      "text/html": [
       "<div>\n",
       "<style scoped>\n",
       "    .dataframe tbody tr th:only-of-type {\n",
       "        vertical-align: middle;\n",
       "    }\n",
       "\n",
       "    .dataframe tbody tr th {\n",
       "        vertical-align: top;\n",
       "    }\n",
       "\n",
       "    .dataframe thead th {\n",
       "        text-align: right;\n",
       "    }\n",
       "</style>\n",
       "<table border=\"1\" class=\"dataframe\">\n",
       "  <thead>\n",
       "    <tr style=\"text-align: right;\">\n",
       "      <th></th>\n",
       "      <th>P_2</th>\n",
       "      <th>D_39</th>\n",
       "      <th>B_1</th>\n",
       "      <th>B_2</th>\n",
       "      <th>R_1</th>\n",
       "      <th>S_3</th>\n",
       "      <th>D_41</th>\n",
       "      <th>B_3</th>\n",
       "      <th>D_43</th>\n",
       "      <th>D_44</th>\n",
       "      <th>...</th>\n",
       "      <th>D_117_4.0</th>\n",
       "      <th>D_117_5.0</th>\n",
       "      <th>D_117_6.0</th>\n",
       "      <th>D_120_-1</th>\n",
       "      <th>D_120_0.0</th>\n",
       "      <th>D_120_1.0</th>\n",
       "      <th>D_126_-1.0</th>\n",
       "      <th>D_126_-2</th>\n",
       "      <th>D_126_0.0</th>\n",
       "      <th>D_126_1.0</th>\n",
       "    </tr>\n",
       "  </thead>\n",
       "  <tbody>\n",
       "    <tr>\n",
       "      <th>0</th>\n",
       "      <td>0.631348</td>\n",
       "      <td>0.001912</td>\n",
       "      <td>0.010727</td>\n",
       "      <td>0.814453</td>\n",
       "      <td>0.007545</td>\n",
       "      <td>0.168701</td>\n",
       "      <td>0.009972</td>\n",
       "      <td>0.002348</td>\n",
       "      <td>0.1619</td>\n",
       "      <td>0.007584</td>\n",
       "      <td>...</td>\n",
       "      <td>0</td>\n",
       "      <td>0</td>\n",
       "      <td>0</td>\n",
       "      <td>1</td>\n",
       "      <td>0</td>\n",
       "      <td>0</td>\n",
       "      <td>0</td>\n",
       "      <td>0</td>\n",
       "      <td>1</td>\n",
       "      <td>0</td>\n",
       "    </tr>\n",
       "    <tr>\n",
       "      <th>1</th>\n",
       "      <td>0.586914</td>\n",
       "      <td>0.005276</td>\n",
       "      <td>0.011024</td>\n",
       "      <td>0.811035</td>\n",
       "      <td>0.001817</td>\n",
       "      <td>0.241333</td>\n",
       "      <td>0.000166</td>\n",
       "      <td>0.009132</td>\n",
       "      <td>0.1619</td>\n",
       "      <td>0.006645</td>\n",
       "      <td>...</td>\n",
       "      <td>0</td>\n",
       "      <td>0</td>\n",
       "      <td>0</td>\n",
       "      <td>1</td>\n",
       "      <td>0</td>\n",
       "      <td>0</td>\n",
       "      <td>0</td>\n",
       "      <td>0</td>\n",
       "      <td>1</td>\n",
       "      <td>0</td>\n",
       "    </tr>\n",
       "    <tr>\n",
       "      <th>2</th>\n",
       "      <td>0.608887</td>\n",
       "      <td>0.003326</td>\n",
       "      <td>0.016388</td>\n",
       "      <td>1.004883</td>\n",
       "      <td>0.000114</td>\n",
       "      <td>0.267090</td>\n",
       "      <td>0.004196</td>\n",
       "      <td>0.004192</td>\n",
       "      <td>0.1619</td>\n",
       "      <td>0.009605</td>\n",
       "      <td>...</td>\n",
       "      <td>0</td>\n",
       "      <td>0</td>\n",
       "      <td>0</td>\n",
       "      <td>1</td>\n",
       "      <td>0</td>\n",
       "      <td>0</td>\n",
       "      <td>0</td>\n",
       "      <td>0</td>\n",
       "      <td>1</td>\n",
       "      <td>0</td>\n",
       "    </tr>\n",
       "    <tr>\n",
       "      <th>3</th>\n",
       "      <td>0.614746</td>\n",
       "      <td>0.009064</td>\n",
       "      <td>0.021667</td>\n",
       "      <td>0.816406</td>\n",
       "      <td>0.009720</td>\n",
       "      <td>0.188965</td>\n",
       "      <td>0.004124</td>\n",
       "      <td>0.015327</td>\n",
       "      <td>0.1619</td>\n",
       "      <td>0.007820</td>\n",
       "      <td>...</td>\n",
       "      <td>0</td>\n",
       "      <td>0</td>\n",
       "      <td>0</td>\n",
       "      <td>1</td>\n",
       "      <td>0</td>\n",
       "      <td>0</td>\n",
       "      <td>0</td>\n",
       "      <td>0</td>\n",
       "      <td>1</td>\n",
       "      <td>0</td>\n",
       "    </tr>\n",
       "    <tr>\n",
       "      <th>4</th>\n",
       "      <td>0.591797</td>\n",
       "      <td>0.238770</td>\n",
       "      <td>0.015930</td>\n",
       "      <td>0.810547</td>\n",
       "      <td>0.002026</td>\n",
       "      <td>0.180054</td>\n",
       "      <td>0.000731</td>\n",
       "      <td>0.011284</td>\n",
       "      <td>0.1619</td>\n",
       "      <td>0.009956</td>\n",
       "      <td>...</td>\n",
       "      <td>0</td>\n",
       "      <td>0</td>\n",
       "      <td>0</td>\n",
       "      <td>0</td>\n",
       "      <td>0</td>\n",
       "      <td>1</td>\n",
       "      <td>0</td>\n",
       "      <td>0</td>\n",
       "      <td>1</td>\n",
       "      <td>0</td>\n",
       "    </tr>\n",
       "  </tbody>\n",
       "</table>\n",
       "<p>5 rows × 198 columns</p>\n",
       "</div>"
      ],
      "text/plain": [
       "        P_2      D_39       B_1       B_2       R_1       S_3      D_41  \\\n",
       "0  0.631348  0.001912  0.010727  0.814453  0.007545  0.168701  0.009972   \n",
       "1  0.586914  0.005276  0.011024  0.811035  0.001817  0.241333  0.000166   \n",
       "2  0.608887  0.003326  0.016388  1.004883  0.000114  0.267090  0.004196   \n",
       "3  0.614746  0.009064  0.021667  0.816406  0.009720  0.188965  0.004124   \n",
       "4  0.591797  0.238770  0.015930  0.810547  0.002026  0.180054  0.000731   \n",
       "\n",
       "        B_3    D_43      D_44  ...  D_117_4.0  D_117_5.0  D_117_6.0  D_120_-1  \\\n",
       "0  0.002348  0.1619  0.007584  ...          0          0          0         1   \n",
       "1  0.009132  0.1619  0.006645  ...          0          0          0         1   \n",
       "2  0.004192  0.1619  0.009605  ...          0          0          0         1   \n",
       "3  0.015327  0.1619  0.007820  ...          0          0          0         1   \n",
       "4  0.011284  0.1619  0.009956  ...          0          0          0         0   \n",
       "\n",
       "   D_120_0.0  D_120_1.0  D_126_-1.0  D_126_-2  D_126_0.0  D_126_1.0  \n",
       "0          0          0           0         0          1          0  \n",
       "1          0          0           0         0          1          0  \n",
       "2          0          0           0         0          1          0  \n",
       "3          0          0           0         0          1          0  \n",
       "4          0          1           0         0          1          0  \n",
       "\n",
       "[5 rows x 198 columns]"
      ]
     },
     "execution_count": 47,
     "metadata": {},
     "output_type": "execute_result"
    }
   ],
   "source": [
    "test_df.head(5)"
   ]
  },
  {
   "cell_type": "code",
   "execution_count": 48,
   "id": "516c731b",
   "metadata": {},
   "outputs": [
    {
     "data": {
      "text/plain": [
       "['P_2',\n",
       " 'D_39',\n",
       " 'B_1',\n",
       " 'B_2',\n",
       " 'R_1',\n",
       " 'S_3',\n",
       " 'D_41',\n",
       " 'B_3',\n",
       " 'D_43',\n",
       " 'D_44',\n",
       " 'B_4',\n",
       " 'D_45',\n",
       " 'B_5',\n",
       " 'R_2',\n",
       " 'D_46',\n",
       " 'D_47',\n",
       " 'D_48',\n",
       " 'B_6',\n",
       " 'B_7',\n",
       " 'B_8',\n",
       " 'D_51',\n",
       " 'B_9',\n",
       " 'R_3',\n",
       " 'D_52',\n",
       " 'P_3',\n",
       " 'B_10',\n",
       " 'S_5',\n",
       " 'B_11',\n",
       " 'S_6',\n",
       " 'D_54',\n",
       " 'R_4',\n",
       " 'S_7',\n",
       " 'B_12',\n",
       " 'S_8',\n",
       " 'D_55',\n",
       " 'B_13',\n",
       " 'R_5',\n",
       " 'D_58',\n",
       " 'B_14',\n",
       " 'D_59',\n",
       " 'D_60',\n",
       " 'D_61',\n",
       " 'B_15',\n",
       " 'S_11',\n",
       " 'D_62',\n",
       " 'D_65',\n",
       " 'B_16',\n",
       " 'B_18',\n",
       " 'B_19',\n",
       " 'B_20',\n",
       " 'S_12',\n",
       " 'R_6',\n",
       " 'S_13',\n",
       " 'B_21',\n",
       " 'D_69',\n",
       " 'B_22',\n",
       " 'D_70',\n",
       " 'D_71',\n",
       " 'D_72',\n",
       " 'S_15',\n",
       " 'B_23',\n",
       " 'P_4',\n",
       " 'D_74',\n",
       " 'D_75',\n",
       " 'B_24',\n",
       " 'R_7',\n",
       " 'D_77',\n",
       " 'B_25',\n",
       " 'B_26',\n",
       " 'D_78',\n",
       " 'D_79',\n",
       " 'R_8',\n",
       " 'S_16',\n",
       " 'D_80',\n",
       " 'R_10',\n",
       " 'R_11',\n",
       " 'B_27',\n",
       " 'D_81',\n",
       " 'S_17',\n",
       " 'R_12',\n",
       " 'B_28',\n",
       " 'R_13',\n",
       " 'D_83',\n",
       " 'R_14',\n",
       " 'R_15',\n",
       " 'D_84',\n",
       " 'R_16',\n",
       " 'S_18',\n",
       " 'D_86',\n",
       " 'R_17',\n",
       " 'R_18',\n",
       " 'B_31',\n",
       " 'S_19',\n",
       " 'R_19',\n",
       " 'B_32',\n",
       " 'S_20',\n",
       " 'R_20',\n",
       " 'R_21',\n",
       " 'B_33',\n",
       " 'D_89',\n",
       " 'R_22',\n",
       " 'R_23',\n",
       " 'D_91',\n",
       " 'D_92',\n",
       " 'D_93',\n",
       " 'D_94',\n",
       " 'R_24',\n",
       " 'R_25',\n",
       " 'D_96',\n",
       " 'S_22',\n",
       " 'S_23',\n",
       " 'S_24',\n",
       " 'S_25',\n",
       " 'S_26',\n",
       " 'D_102',\n",
       " 'D_103',\n",
       " 'D_104',\n",
       " 'D_107',\n",
       " 'B_36',\n",
       " 'B_37',\n",
       " 'R_27',\n",
       " 'D_109',\n",
       " 'D_112',\n",
       " 'B_40',\n",
       " 'S_27',\n",
       " 'D_113',\n",
       " 'D_115',\n",
       " 'D_118',\n",
       " 'D_119',\n",
       " 'D_121',\n",
       " 'D_122',\n",
       " 'D_123',\n",
       " 'D_124',\n",
       " 'D_125',\n",
       " 'D_127',\n",
       " 'D_128',\n",
       " 'D_129',\n",
       " 'B_41',\n",
       " 'D_130',\n",
       " 'D_131',\n",
       " 'D_133',\n",
       " 'R_28',\n",
       " 'D_139',\n",
       " 'D_140',\n",
       " 'D_141',\n",
       " 'D_143',\n",
       " 'D_144',\n",
       " 'D_145',\n",
       " 'D_63_CL',\n",
       " 'D_63_CO',\n",
       " 'D_63_CR',\n",
       " 'D_63_XL',\n",
       " 'D_63_XM',\n",
       " 'D_63_XZ',\n",
       " 'D_64_NA',\n",
       " 'D_64_O',\n",
       " 'D_64_R',\n",
       " 'D_64_U',\n",
       " 'D_68_-1',\n",
       " 'D_68_1.0',\n",
       " 'D_68_2.0',\n",
       " 'D_68_3.0',\n",
       " 'D_68_4.0',\n",
       " 'D_68_5.0',\n",
       " 'D_68_6.0',\n",
       " 'B_30_-1',\n",
       " 'B_30_0.0',\n",
       " 'B_30_1.0',\n",
       " 'B_30_2.0',\n",
       " 'B_38_-1',\n",
       " 'B_38_1.0',\n",
       " 'B_38_2.0',\n",
       " 'B_38_3.0',\n",
       " 'B_38_4.0',\n",
       " 'B_38_5.0',\n",
       " 'B_38_6.0',\n",
       " 'B_38_7.0',\n",
       " 'D_114_-1',\n",
       " 'D_114_0.0',\n",
       " 'D_114_1.0',\n",
       " 'D_116_-1',\n",
       " 'D_116_0.0',\n",
       " 'D_116_1.0',\n",
       " 'D_117_-1.0',\n",
       " 'D_117_-2',\n",
       " 'D_117_1.0',\n",
       " 'D_117_2.0',\n",
       " 'D_117_3.0',\n",
       " 'D_117_4.0',\n",
       " 'D_117_5.0',\n",
       " 'D_117_6.0',\n",
       " 'D_120_-1',\n",
       " 'D_120_0.0',\n",
       " 'D_120_1.0',\n",
       " 'D_126_-1.0',\n",
       " 'D_126_-2',\n",
       " 'D_126_0.0',\n",
       " 'D_126_1.0']"
      ]
     },
     "execution_count": 48,
     "metadata": {},
     "output_type": "execute_result"
    }
   ],
   "source": [
    "list(test_df.columns)"
   ]
  },
  {
   "cell_type": "markdown",
   "id": "f1075e7f",
   "metadata": {},
   "source": [
    "# Insert your ML Model here."
   ]
  },
  {
   "cell_type": "code",
   "execution_count": 49,
   "id": "9c8ce363",
   "metadata": {},
   "outputs": [],
   "source": [
    "model_loaded = pickle.load(open(model_path + \"xgb_initial.pkl\", \"rb\"))"
   ]
  },
  {
   "cell_type": "code",
   "execution_count": 50,
   "id": "3d3bbd92",
   "metadata": {},
   "outputs": [
    {
     "name": "stderr",
     "output_type": "stream",
     "text": [
      "C:\\Users\\Arikhan Arik\\anaconda3\\lib\\site-packages\\xgboost\\data.py:112: UserWarning: Use subset (sliced data) of np.ndarray is not recommended because it will generate extra copies and increase memory consumption\n",
      "  warnings.warn(\n"
     ]
    },
    {
     "data": {
      "text/plain": [
       "array([[0.5526286 , 0.44737142],\n",
       "       [0.70788276, 0.29211727],\n",
       "       [0.7677625 , 0.23223753],\n",
       "       ...,\n",
       "       [0.68995345, 0.31004658],\n",
       "       [0.8114777 , 0.1885223 ],\n",
       "       [0.81414163, 0.18585838]], dtype=float32)"
      ]
     },
     "execution_count": 50,
     "metadata": {},
     "output_type": "execute_result"
    }
   ],
   "source": [
    "val_hat_proba = model_loaded.predict_proba(test_df)\n",
    "val_hat_proba"
   ]
  },
  {
   "cell_type": "code",
   "execution_count": 51,
   "id": "86af3728",
   "metadata": {},
   "outputs": [],
   "source": [
    "val_hat_df = pd.DataFrame()\n",
    "val_hat_df['customer_ID'] = customer_ids\n",
    "val_hat_df['prediction'] = val_hat_proba[:, 0]\n"
   ]
  },
  {
   "cell_type": "code",
   "execution_count": 53,
   "id": "5dd6893c",
   "metadata": {},
   "outputs": [
    {
     "data": {
      "text/html": [
       "<div>\n",
       "<style scoped>\n",
       "    .dataframe tbody tr th:only-of-type {\n",
       "        vertical-align: middle;\n",
       "    }\n",
       "\n",
       "    .dataframe tbody tr th {\n",
       "        vertical-align: top;\n",
       "    }\n",
       "\n",
       "    .dataframe thead th {\n",
       "        text-align: right;\n",
       "    }\n",
       "</style>\n",
       "<table border=\"1\" class=\"dataframe\">\n",
       "  <thead>\n",
       "    <tr style=\"text-align: right;\">\n",
       "      <th></th>\n",
       "      <th>customer_ID</th>\n",
       "      <th>prediction</th>\n",
       "    </tr>\n",
       "  </thead>\n",
       "  <tbody>\n",
       "    <tr>\n",
       "      <th>0</th>\n",
       "      <td>00000469ba478561f23a92a868bd366de6f6527a684c9a...</td>\n",
       "      <td>0.447371</td>\n",
       "    </tr>\n",
       "    <tr>\n",
       "      <th>1</th>\n",
       "      <td>00000469ba478561f23a92a868bd366de6f6527a684c9a...</td>\n",
       "      <td>0.292117</td>\n",
       "    </tr>\n",
       "    <tr>\n",
       "      <th>2</th>\n",
       "      <td>00000469ba478561f23a92a868bd366de6f6527a684c9a...</td>\n",
       "      <td>0.232238</td>\n",
       "    </tr>\n",
       "    <tr>\n",
       "      <th>3</th>\n",
       "      <td>00000469ba478561f23a92a868bd366de6f6527a684c9a...</td>\n",
       "      <td>0.206726</td>\n",
       "    </tr>\n",
       "    <tr>\n",
       "      <th>4</th>\n",
       "      <td>00000469ba478561f23a92a868bd366de6f6527a684c9a...</td>\n",
       "      <td>0.203028</td>\n",
       "    </tr>\n",
       "    <tr>\n",
       "      <th>...</th>\n",
       "      <td>...</td>\n",
       "      <td>...</td>\n",
       "    </tr>\n",
       "    <tr>\n",
       "      <th>11363757</th>\n",
       "      <td>fffffa7cf7e453e1acc6a1426475d5cb9400859f82ff61...</td>\n",
       "      <td>0.366838</td>\n",
       "    </tr>\n",
       "    <tr>\n",
       "      <th>11363758</th>\n",
       "      <td>fffffa7cf7e453e1acc6a1426475d5cb9400859f82ff61...</td>\n",
       "      <td>0.310047</td>\n",
       "    </tr>\n",
       "    <tr>\n",
       "      <th>11363759</th>\n",
       "      <td>fffffa7cf7e453e1acc6a1426475d5cb9400859f82ff61...</td>\n",
       "      <td>0.310047</td>\n",
       "    </tr>\n",
       "    <tr>\n",
       "      <th>11363760</th>\n",
       "      <td>fffffa7cf7e453e1acc6a1426475d5cb9400859f82ff61...</td>\n",
       "      <td>0.188522</td>\n",
       "    </tr>\n",
       "    <tr>\n",
       "      <th>11363761</th>\n",
       "      <td>fffffa7cf7e453e1acc6a1426475d5cb9400859f82ff61...</td>\n",
       "      <td>0.185858</td>\n",
       "    </tr>\n",
       "  </tbody>\n",
       "</table>\n",
       "<p>11363762 rows × 2 columns</p>\n",
       "</div>"
      ],
      "text/plain": [
       "                                                customer_ID  prediction\n",
       "0         00000469ba478561f23a92a868bd366de6f6527a684c9a...    0.447371\n",
       "1         00000469ba478561f23a92a868bd366de6f6527a684c9a...    0.292117\n",
       "2         00000469ba478561f23a92a868bd366de6f6527a684c9a...    0.232238\n",
       "3         00000469ba478561f23a92a868bd366de6f6527a684c9a...    0.206726\n",
       "4         00000469ba478561f23a92a868bd366de6f6527a684c9a...    0.203028\n",
       "...                                                     ...         ...\n",
       "11363757  fffffa7cf7e453e1acc6a1426475d5cb9400859f82ff61...    0.366838\n",
       "11363758  fffffa7cf7e453e1acc6a1426475d5cb9400859f82ff61...    0.310047\n",
       "11363759  fffffa7cf7e453e1acc6a1426475d5cb9400859f82ff61...    0.310047\n",
       "11363760  fffffa7cf7e453e1acc6a1426475d5cb9400859f82ff61...    0.188522\n",
       "11363761  fffffa7cf7e453e1acc6a1426475d5cb9400859f82ff61...    0.185858\n",
       "\n",
       "[11363762 rows x 2 columns]"
      ]
     },
     "execution_count": 53,
     "metadata": {},
     "output_type": "execute_result"
    }
   ],
   "source": [
    "val_hat_df"
   ]
  },
  {
   "cell_type": "code",
   "execution_count": 54,
   "id": "6c221191",
   "metadata": {},
   "outputs": [],
   "source": [
    "val_hat_df = (val_hat_df\n",
    "          .groupby('customer_ID')\n",
    "          .mean())\n",
    "\n",
    "# Scale the mean P_2 by the max value and take the compliment\n",
    "val_hat_df['prediction'] = 1.0 - (val_hat_df['prediction'] / val_hat_df['prediction'].max())"
   ]
  },
  {
   "cell_type": "code",
   "execution_count": 66,
   "id": "77a4bbdf",
   "metadata": {},
   "outputs": [
    {
     "data": {
      "text/html": [
       "<div>\n",
       "<style scoped>\n",
       "    .dataframe tbody tr th:only-of-type {\n",
       "        vertical-align: middle;\n",
       "    }\n",
       "\n",
       "    .dataframe tbody tr th {\n",
       "        vertical-align: top;\n",
       "    }\n",
       "\n",
       "    .dataframe thead th {\n",
       "        text-align: right;\n",
       "    }\n",
       "</style>\n",
       "<table border=\"1\" class=\"dataframe\">\n",
       "  <thead>\n",
       "    <tr style=\"text-align: right;\">\n",
       "      <th></th>\n",
       "      <th>prediction</th>\n",
       "      <th>cusotmer_ID</th>\n",
       "    </tr>\n",
       "  </thead>\n",
       "  <tbody>\n",
       "    <tr>\n",
       "      <th>0</th>\n",
       "      <td>0.770896</td>\n",
       "      <td>00000469ba478561f23a92a868bd366de6f6527a684c9a...</td>\n",
       "    </tr>\n",
       "    <tr>\n",
       "      <th>1</th>\n",
       "      <td>0.995828</td>\n",
       "      <td>00001bf2e77ff879fab36aa4fac689b9ba411dae63ae39...</td>\n",
       "    </tr>\n",
       "    <tr>\n",
       "      <th>2</th>\n",
       "      <td>0.953986</td>\n",
       "      <td>0000210045da4f81e5f122c6bde5c2a617d03eef67f82c...</td>\n",
       "    </tr>\n",
       "    <tr>\n",
       "      <th>3</th>\n",
       "      <td>0.356691</td>\n",
       "      <td>00003b41e58ede33b8daf61ab56d9952f17c9ad1c3976c...</td>\n",
       "    </tr>\n",
       "    <tr>\n",
       "      <th>4</th>\n",
       "      <td>0.275506</td>\n",
       "      <td>00004b22eaeeeb0ec976890c1d9bfc14fd9427e98c4ee9...</td>\n",
       "    </tr>\n",
       "    <tr>\n",
       "      <th>...</th>\n",
       "      <td>...</td>\n",
       "      <td>...</td>\n",
       "    </tr>\n",
       "    <tr>\n",
       "      <th>924616</th>\n",
       "      <td>0.957218</td>\n",
       "      <td>ffff952c631f2c911b8a2a8ca56ea6e656309a83d2f64c...</td>\n",
       "    </tr>\n",
       "    <tr>\n",
       "      <th>924617</th>\n",
       "      <td>0.407328</td>\n",
       "      <td>ffffcf5df59e5e0bba2a5ac4578a34e2b5aa64a1546cd3...</td>\n",
       "    </tr>\n",
       "    <tr>\n",
       "      <th>924618</th>\n",
       "      <td>0.242142</td>\n",
       "      <td>ffffd61f098cc056dbd7d2a21380c4804bbfe60856f475...</td>\n",
       "    </tr>\n",
       "    <tr>\n",
       "      <th>924619</th>\n",
       "      <td>0.449553</td>\n",
       "      <td>ffffddef1fc3643ea179c93245b68dca0f36941cd83977...</td>\n",
       "    </tr>\n",
       "    <tr>\n",
       "      <th>924620</th>\n",
       "      <td>0.696115</td>\n",
       "      <td>fffffa7cf7e453e1acc6a1426475d5cb9400859f82ff61...</td>\n",
       "    </tr>\n",
       "  </tbody>\n",
       "</table>\n",
       "<p>924621 rows × 2 columns</p>\n",
       "</div>"
      ],
      "text/plain": [
       "        prediction                                        cusotmer_ID\n",
       "0         0.770896  00000469ba478561f23a92a868bd366de6f6527a684c9a...\n",
       "1         0.995828  00001bf2e77ff879fab36aa4fac689b9ba411dae63ae39...\n",
       "2         0.953986  0000210045da4f81e5f122c6bde5c2a617d03eef67f82c...\n",
       "3         0.356691  00003b41e58ede33b8daf61ab56d9952f17c9ad1c3976c...\n",
       "4         0.275506  00004b22eaeeeb0ec976890c1d9bfc14fd9427e98c4ee9...\n",
       "...            ...                                                ...\n",
       "924616    0.957218  ffff952c631f2c911b8a2a8ca56ea6e656309a83d2f64c...\n",
       "924617    0.407328  ffffcf5df59e5e0bba2a5ac4578a34e2b5aa64a1546cd3...\n",
       "924618    0.242142  ffffd61f098cc056dbd7d2a21380c4804bbfe60856f475...\n",
       "924619    0.449553  ffffddef1fc3643ea179c93245b68dca0f36941cd83977...\n",
       "924620    0.696115  fffffa7cf7e453e1acc6a1426475d5cb9400859f82ff61...\n",
       "\n",
       "[924621 rows x 2 columns]"
      ]
     },
     "execution_count": 66,
     "metadata": {},
     "output_type": "execute_result"
    }
   ],
   "source": [
    "val_hat_df['customer_ID'] = list(val_hat_df.index)\n",
    "val_hat_df.reset_index(drop = True, inplace = True)"
   ]
  },
  {
   "cell_type": "code",
   "execution_count": 67,
   "id": "8f5b1bde",
   "metadata": {},
   "outputs": [],
   "source": [
    "# shift column 'C' to first position\n",
    "first_column = val_hat_df.pop('customer_ID')\n",
    "  \n",
    "# insert column using insert(position,column_name,first_column) function\n",
    "val_hat_df.insert(0, 'customer_ID', first_column)"
   ]
  },
  {
   "cell_type": "code",
   "execution_count": 71,
   "id": "9389a57e",
   "metadata": {},
   "outputs": [],
   "source": [
    "val_hat_df.to_csv(path + \"submission2.csv\", index = False)"
   ]
  },
  {
   "cell_type": "code",
   "execution_count": null,
   "id": "31c6e7fd",
   "metadata": {},
   "outputs": [],
   "source": []
  }
 ],
 "metadata": {
  "kernelspec": {
   "display_name": "Python 3",
   "language": "python",
   "name": "python3"
  },
  "language_info": {
   "codemirror_mode": {
    "name": "ipython",
    "version": 3
   },
   "file_extension": ".py",
   "mimetype": "text/x-python",
   "name": "python",
   "nbconvert_exporter": "python",
   "pygments_lexer": "ipython3",
   "version": "3.8.8"
  }
 },
 "nbformat": 4,
 "nbformat_minor": 5
}
