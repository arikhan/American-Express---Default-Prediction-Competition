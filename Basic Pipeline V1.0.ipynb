{
 "cells": [
  {
   "cell_type": "code",
   "execution_count": 86,
   "id": "5b2ac48e",
   "metadata": {},
   "outputs": [],
   "source": [
    "import pandas as pd\n",
    "import seaborn as sns\n",
    "import numpy as np\n",
    "import scipy \n",
    "import pickle\n",
    "\n",
    "from sklearn.impute import SimpleImputer\n",
    "\n",
    "from xgboost import XGBClassifier\n",
    "\n",
    "from sklearn.metrics import accuracy_score\n",
    "\n",
    "#Change this line based on your PC configurations.\n",
    "path = \"C:/Users/Arikhan Arik/Desktop/American Express - Default Prediction/Data/\"\n",
    "\n",
    "# Change this line based on your PC configurations.\n",
    "model_path = \"C:/Users/Arikhan Arik/Desktop/American Express - Default Prediction/Model/\"\n"
   ]
  },
  {
   "cell_type": "code",
   "execution_count": 87,
   "id": "3a0fa49f",
   "metadata": {},
   "outputs": [],
   "source": [
    "train_df = pd.read_parquet(path + \"train_data.parquet\")\n",
    "\n",
    "# test_data1 = pd.read_parquet(\"C:/Users/Arikhan Arik/Desktop/American Express - Default Prediction/Data/test_data1.parquet\")\n",
    "# test_data2 = pd.read_parquet(\"C:/Users/Arikhan Arik/Desktop/American Express - Default Prediction/Data/test_data2.parquet\")"
   ]
  },
  {
   "cell_type": "code",
   "execution_count": 88,
   "id": "84e7ccd3",
   "metadata": {},
   "outputs": [
    {
     "data": {
      "text/html": [
       "<div>\n",
       "<style scoped>\n",
       "    .dataframe tbody tr th:only-of-type {\n",
       "        vertical-align: middle;\n",
       "    }\n",
       "\n",
       "    .dataframe tbody tr th {\n",
       "        vertical-align: top;\n",
       "    }\n",
       "\n",
       "    .dataframe thead th {\n",
       "        text-align: right;\n",
       "    }\n",
       "</style>\n",
       "<table border=\"1\" class=\"dataframe\">\n",
       "  <thead>\n",
       "    <tr style=\"text-align: right;\">\n",
       "      <th></th>\n",
       "      <th>customer_ID</th>\n",
       "      <th>S_2</th>\n",
       "      <th>P_2</th>\n",
       "      <th>D_39</th>\n",
       "      <th>B_1</th>\n",
       "      <th>B_2</th>\n",
       "      <th>R_1</th>\n",
       "      <th>S_3</th>\n",
       "      <th>D_41</th>\n",
       "      <th>B_3</th>\n",
       "      <th>...</th>\n",
       "      <th>D_136</th>\n",
       "      <th>D_137</th>\n",
       "      <th>D_138</th>\n",
       "      <th>D_139</th>\n",
       "      <th>D_140</th>\n",
       "      <th>D_141</th>\n",
       "      <th>D_142</th>\n",
       "      <th>D_143</th>\n",
       "      <th>D_144</th>\n",
       "      <th>D_145</th>\n",
       "    </tr>\n",
       "  </thead>\n",
       "  <tbody>\n",
       "    <tr>\n",
       "      <th>0</th>\n",
       "      <td>0000099d6bd597052cdcda90ffabf56573fe9d7c79be5f...</td>\n",
       "      <td>2017-03-09</td>\n",
       "      <td>0.938477</td>\n",
       "      <td>0.001734</td>\n",
       "      <td>0.008728</td>\n",
       "      <td>1.006836</td>\n",
       "      <td>0.009224</td>\n",
       "      <td>0.124023</td>\n",
       "      <td>0.008774</td>\n",
       "      <td>0.004707</td>\n",
       "      <td>...</td>\n",
       "      <td>NaN</td>\n",
       "      <td>NaN</td>\n",
       "      <td>NaN</td>\n",
       "      <td>0.002426</td>\n",
       "      <td>0.003706</td>\n",
       "      <td>0.003819</td>\n",
       "      <td>NaN</td>\n",
       "      <td>0.000569</td>\n",
       "      <td>0.000610</td>\n",
       "      <td>0.002674</td>\n",
       "    </tr>\n",
       "    <tr>\n",
       "      <th>1</th>\n",
       "      <td>0000099d6bd597052cdcda90ffabf56573fe9d7c79be5f...</td>\n",
       "      <td>2017-04-07</td>\n",
       "      <td>0.936523</td>\n",
       "      <td>0.005775</td>\n",
       "      <td>0.004925</td>\n",
       "      <td>1.000977</td>\n",
       "      <td>0.006153</td>\n",
       "      <td>0.126709</td>\n",
       "      <td>0.000798</td>\n",
       "      <td>0.002714</td>\n",
       "      <td>...</td>\n",
       "      <td>NaN</td>\n",
       "      <td>NaN</td>\n",
       "      <td>NaN</td>\n",
       "      <td>0.003956</td>\n",
       "      <td>0.003166</td>\n",
       "      <td>0.005032</td>\n",
       "      <td>NaN</td>\n",
       "      <td>0.009575</td>\n",
       "      <td>0.005493</td>\n",
       "      <td>0.009216</td>\n",
       "    </tr>\n",
       "    <tr>\n",
       "      <th>2</th>\n",
       "      <td>0000099d6bd597052cdcda90ffabf56573fe9d7c79be5f...</td>\n",
       "      <td>2017-05-28</td>\n",
       "      <td>0.954102</td>\n",
       "      <td>0.091492</td>\n",
       "      <td>0.021652</td>\n",
       "      <td>1.009766</td>\n",
       "      <td>0.006817</td>\n",
       "      <td>0.123962</td>\n",
       "      <td>0.007599</td>\n",
       "      <td>0.009422</td>\n",
       "      <td>...</td>\n",
       "      <td>NaN</td>\n",
       "      <td>NaN</td>\n",
       "      <td>NaN</td>\n",
       "      <td>0.003269</td>\n",
       "      <td>0.007328</td>\n",
       "      <td>0.000427</td>\n",
       "      <td>NaN</td>\n",
       "      <td>0.003429</td>\n",
       "      <td>0.006985</td>\n",
       "      <td>0.002604</td>\n",
       "    </tr>\n",
       "    <tr>\n",
       "      <th>3</th>\n",
       "      <td>0000099d6bd597052cdcda90ffabf56573fe9d7c79be5f...</td>\n",
       "      <td>2017-06-13</td>\n",
       "      <td>0.960449</td>\n",
       "      <td>0.002455</td>\n",
       "      <td>0.013687</td>\n",
       "      <td>1.002930</td>\n",
       "      <td>0.001372</td>\n",
       "      <td>0.117188</td>\n",
       "      <td>0.000685</td>\n",
       "      <td>0.005531</td>\n",
       "      <td>...</td>\n",
       "      <td>NaN</td>\n",
       "      <td>NaN</td>\n",
       "      <td>NaN</td>\n",
       "      <td>0.006119</td>\n",
       "      <td>0.004517</td>\n",
       "      <td>0.003201</td>\n",
       "      <td>NaN</td>\n",
       "      <td>0.008423</td>\n",
       "      <td>0.006527</td>\n",
       "      <td>0.009598</td>\n",
       "    </tr>\n",
       "    <tr>\n",
       "      <th>4</th>\n",
       "      <td>0000099d6bd597052cdcda90ffabf56573fe9d7c79be5f...</td>\n",
       "      <td>2017-07-16</td>\n",
       "      <td>0.947266</td>\n",
       "      <td>0.002483</td>\n",
       "      <td>0.015190</td>\n",
       "      <td>1.000977</td>\n",
       "      <td>0.007607</td>\n",
       "      <td>0.117310</td>\n",
       "      <td>0.004654</td>\n",
       "      <td>0.009308</td>\n",
       "      <td>...</td>\n",
       "      <td>NaN</td>\n",
       "      <td>NaN</td>\n",
       "      <td>NaN</td>\n",
       "      <td>0.003672</td>\n",
       "      <td>0.004944</td>\n",
       "      <td>0.008888</td>\n",
       "      <td>NaN</td>\n",
       "      <td>0.001670</td>\n",
       "      <td>0.008125</td>\n",
       "      <td>0.009827</td>\n",
       "    </tr>\n",
       "    <tr>\n",
       "      <th>5</th>\n",
       "      <td>0000099d6bd597052cdcda90ffabf56573fe9d7c79be5f...</td>\n",
       "      <td>2017-08-04</td>\n",
       "      <td>0.945801</td>\n",
       "      <td>0.001746</td>\n",
       "      <td>0.007866</td>\n",
       "      <td>1.004883</td>\n",
       "      <td>0.004219</td>\n",
       "      <td>0.110962</td>\n",
       "      <td>0.009857</td>\n",
       "      <td>0.009865</td>\n",
       "      <td>...</td>\n",
       "      <td>NaN</td>\n",
       "      <td>NaN</td>\n",
       "      <td>NaN</td>\n",
       "      <td>0.001925</td>\n",
       "      <td>0.008598</td>\n",
       "      <td>0.004528</td>\n",
       "      <td>NaN</td>\n",
       "      <td>0.000674</td>\n",
       "      <td>0.002222</td>\n",
       "      <td>0.002884</td>\n",
       "    </tr>\n",
       "    <tr>\n",
       "      <th>6</th>\n",
       "      <td>0000099d6bd597052cdcda90ffabf56573fe9d7c79be5f...</td>\n",
       "      <td>2017-09-18</td>\n",
       "      <td>0.940918</td>\n",
       "      <td>0.002182</td>\n",
       "      <td>0.018860</td>\n",
       "      <td>1.007812</td>\n",
       "      <td>0.004509</td>\n",
       "      <td>0.103333</td>\n",
       "      <td>0.006603</td>\n",
       "      <td>0.000783</td>\n",
       "      <td>...</td>\n",
       "      <td>NaN</td>\n",
       "      <td>NaN</td>\n",
       "      <td>NaN</td>\n",
       "      <td>0.001336</td>\n",
       "      <td>0.004360</td>\n",
       "      <td>0.009384</td>\n",
       "      <td>NaN</td>\n",
       "      <td>0.007729</td>\n",
       "      <td>0.007660</td>\n",
       "      <td>0.002224</td>\n",
       "    </tr>\n",
       "    <tr>\n",
       "      <th>7</th>\n",
       "      <td>0000099d6bd597052cdcda90ffabf56573fe9d7c79be5f...</td>\n",
       "      <td>2017-10-08</td>\n",
       "      <td>0.914551</td>\n",
       "      <td>0.003029</td>\n",
       "      <td>0.014328</td>\n",
       "      <td>1.000000</td>\n",
       "      <td>0.000263</td>\n",
       "      <td>0.108093</td>\n",
       "      <td>0.009529</td>\n",
       "      <td>0.007835</td>\n",
       "      <td>...</td>\n",
       "      <td>NaN</td>\n",
       "      <td>NaN</td>\n",
       "      <td>NaN</td>\n",
       "      <td>0.002398</td>\n",
       "      <td>0.008453</td>\n",
       "      <td>0.005554</td>\n",
       "      <td>NaN</td>\n",
       "      <td>0.001831</td>\n",
       "      <td>0.009613</td>\n",
       "      <td>0.007385</td>\n",
       "    </tr>\n",
       "    <tr>\n",
       "      <th>8</th>\n",
       "      <td>0000099d6bd597052cdcda90ffabf56573fe9d7c79be5f...</td>\n",
       "      <td>2017-11-20</td>\n",
       "      <td>0.950684</td>\n",
       "      <td>0.009895</td>\n",
       "      <td>0.016891</td>\n",
       "      <td>1.003906</td>\n",
       "      <td>0.001789</td>\n",
       "      <td>0.102783</td>\n",
       "      <td>0.002520</td>\n",
       "      <td>0.009819</td>\n",
       "      <td>...</td>\n",
       "      <td>NaN</td>\n",
       "      <td>NaN</td>\n",
       "      <td>NaN</td>\n",
       "      <td>0.009743</td>\n",
       "      <td>0.003967</td>\n",
       "      <td>0.007942</td>\n",
       "      <td>NaN</td>\n",
       "      <td>0.008720</td>\n",
       "      <td>0.004368</td>\n",
       "      <td>0.000996</td>\n",
       "    </tr>\n",
       "    <tr>\n",
       "      <th>9</th>\n",
       "      <td>0000099d6bd597052cdcda90ffabf56573fe9d7c79be5f...</td>\n",
       "      <td>2017-12-04</td>\n",
       "      <td>0.868652</td>\n",
       "      <td>0.001082</td>\n",
       "      <td>0.001930</td>\n",
       "      <td>1.007812</td>\n",
       "      <td>0.001772</td>\n",
       "      <td>0.100464</td>\n",
       "      <td>0.004627</td>\n",
       "      <td>0.006073</td>\n",
       "      <td>...</td>\n",
       "      <td>NaN</td>\n",
       "      <td>NaN</td>\n",
       "      <td>NaN</td>\n",
       "      <td>0.003611</td>\n",
       "      <td>0.009605</td>\n",
       "      <td>0.007267</td>\n",
       "      <td>NaN</td>\n",
       "      <td>0.008766</td>\n",
       "      <td>0.004753</td>\n",
       "      <td>0.009071</td>\n",
       "    </tr>\n",
       "  </tbody>\n",
       "</table>\n",
       "<p>10 rows × 190 columns</p>\n",
       "</div>"
      ],
      "text/plain": [
       "                                         customer_ID         S_2       P_2  \\\n",
       "0  0000099d6bd597052cdcda90ffabf56573fe9d7c79be5f...  2017-03-09  0.938477   \n",
       "1  0000099d6bd597052cdcda90ffabf56573fe9d7c79be5f...  2017-04-07  0.936523   \n",
       "2  0000099d6bd597052cdcda90ffabf56573fe9d7c79be5f...  2017-05-28  0.954102   \n",
       "3  0000099d6bd597052cdcda90ffabf56573fe9d7c79be5f...  2017-06-13  0.960449   \n",
       "4  0000099d6bd597052cdcda90ffabf56573fe9d7c79be5f...  2017-07-16  0.947266   \n",
       "5  0000099d6bd597052cdcda90ffabf56573fe9d7c79be5f...  2017-08-04  0.945801   \n",
       "6  0000099d6bd597052cdcda90ffabf56573fe9d7c79be5f...  2017-09-18  0.940918   \n",
       "7  0000099d6bd597052cdcda90ffabf56573fe9d7c79be5f...  2017-10-08  0.914551   \n",
       "8  0000099d6bd597052cdcda90ffabf56573fe9d7c79be5f...  2017-11-20  0.950684   \n",
       "9  0000099d6bd597052cdcda90ffabf56573fe9d7c79be5f...  2017-12-04  0.868652   \n",
       "\n",
       "       D_39       B_1       B_2       R_1       S_3      D_41       B_3  ...  \\\n",
       "0  0.001734  0.008728  1.006836  0.009224  0.124023  0.008774  0.004707  ...   \n",
       "1  0.005775  0.004925  1.000977  0.006153  0.126709  0.000798  0.002714  ...   \n",
       "2  0.091492  0.021652  1.009766  0.006817  0.123962  0.007599  0.009422  ...   \n",
       "3  0.002455  0.013687  1.002930  0.001372  0.117188  0.000685  0.005531  ...   \n",
       "4  0.002483  0.015190  1.000977  0.007607  0.117310  0.004654  0.009308  ...   \n",
       "5  0.001746  0.007866  1.004883  0.004219  0.110962  0.009857  0.009865  ...   \n",
       "6  0.002182  0.018860  1.007812  0.004509  0.103333  0.006603  0.000783  ...   \n",
       "7  0.003029  0.014328  1.000000  0.000263  0.108093  0.009529  0.007835  ...   \n",
       "8  0.009895  0.016891  1.003906  0.001789  0.102783  0.002520  0.009819  ...   \n",
       "9  0.001082  0.001930  1.007812  0.001772  0.100464  0.004627  0.006073  ...   \n",
       "\n",
       "   D_136  D_137  D_138     D_139     D_140     D_141  D_142     D_143  \\\n",
       "0    NaN    NaN    NaN  0.002426  0.003706  0.003819    NaN  0.000569   \n",
       "1    NaN    NaN    NaN  0.003956  0.003166  0.005032    NaN  0.009575   \n",
       "2    NaN    NaN    NaN  0.003269  0.007328  0.000427    NaN  0.003429   \n",
       "3    NaN    NaN    NaN  0.006119  0.004517  0.003201    NaN  0.008423   \n",
       "4    NaN    NaN    NaN  0.003672  0.004944  0.008888    NaN  0.001670   \n",
       "5    NaN    NaN    NaN  0.001925  0.008598  0.004528    NaN  0.000674   \n",
       "6    NaN    NaN    NaN  0.001336  0.004360  0.009384    NaN  0.007729   \n",
       "7    NaN    NaN    NaN  0.002398  0.008453  0.005554    NaN  0.001831   \n",
       "8    NaN    NaN    NaN  0.009743  0.003967  0.007942    NaN  0.008720   \n",
       "9    NaN    NaN    NaN  0.003611  0.009605  0.007267    NaN  0.008766   \n",
       "\n",
       "      D_144     D_145  \n",
       "0  0.000610  0.002674  \n",
       "1  0.005493  0.009216  \n",
       "2  0.006985  0.002604  \n",
       "3  0.006527  0.009598  \n",
       "4  0.008125  0.009827  \n",
       "5  0.002222  0.002884  \n",
       "6  0.007660  0.002224  \n",
       "7  0.009613  0.007385  \n",
       "8  0.004368  0.000996  \n",
       "9  0.004753  0.009071  \n",
       "\n",
       "[10 rows x 190 columns]"
      ]
     },
     "execution_count": 88,
     "metadata": {},
     "output_type": "execute_result"
    }
   ],
   "source": [
    "train_df.head(10)"
   ]
  },
  {
   "cell_type": "code",
   "execution_count": 89,
   "id": "63b157d3",
   "metadata": {},
   "outputs": [
    {
     "name": "stdout",
     "output_type": "stream",
     "text": [
      "<class 'pandas.core.frame.DataFrame'>\n",
      "RangeIndex: 5531451 entries, 0 to 5531450\n",
      "Columns: 190 entries, customer_ID to D_145\n",
      "dtypes: float32(177), object(13)\n",
      "memory usage: 4.2+ GB\n"
     ]
    }
   ],
   "source": [
    "train_df.info()"
   ]
  },
  {
   "cell_type": "code",
   "execution_count": 90,
   "id": "ba6eef59",
   "metadata": {},
   "outputs": [],
   "source": [
    "# Apply memory reduction for df_test since the data is way too big for memory in default settings.\n",
    "for column in train_df.select_dtypes(include=['int']).columns:\n",
    "    if train_df[column].max() <= np.iinfo(np.int8).max and train_df[column].min() >= np.iinfo(np.int8).min:\n",
    "        train_df[column] = train_df[column].astype('int8')\n",
    "    elif train_df[column].max() <= np.iinfo(np.int16).max and train_df[column].min() >= np.iinfo(np.int16).min:\n",
    "        train_df[column] = train_df[column].astype('int16')\n",
    "    elif train_df[column].max() <= np.iinfo(np.int32).max and train_df[column].min() >= np.iinfo(np.int32).min:\n",
    "        train_df[column] = train_df[column].astype('int32')\n",
    "\n",
    "for column in train_df.select_dtypes(include=['float']).columns:\n",
    "    if train_df[column].max() <= np.finfo(np.float16).max and train_df[column].min() >= np.finfo(np.float16).min:\n",
    "        train_df[column] = train_df[column].astype('float16')\n",
    "    elif train_df[column].max() <= np.finfo(np.float32).max and train_df[column].min() >= np.finfo(np.float32).min:\n",
    "        train_df[column] = train_df[column].astype('float32')"
   ]
  },
  {
   "cell_type": "code",
   "execution_count": 91,
   "id": "d18cb73a",
   "metadata": {},
   "outputs": [
    {
     "name": "stdout",
     "output_type": "stream",
     "text": [
      "<class 'pandas.core.frame.DataFrame'>\n",
      "RangeIndex: 5531451 entries, 0 to 5531450\n",
      "Columns: 190 entries, customer_ID to D_145\n",
      "dtypes: float32(177), object(13)\n",
      "memory usage: 4.2+ GB\n"
     ]
    }
   ],
   "source": [
    "train_df.info()"
   ]
  },
  {
   "cell_type": "code",
   "execution_count": 92,
   "id": "57515120",
   "metadata": {},
   "outputs": [],
   "source": [
    "# test_df = pd.concat([test_data1, test_data2])"
   ]
  },
  {
   "cell_type": "code",
   "execution_count": 93,
   "id": "fbd80f64",
   "metadata": {},
   "outputs": [],
   "source": [
    "# test_df.info()"
   ]
  },
  {
   "cell_type": "code",
   "execution_count": 94,
   "id": "e98e3634",
   "metadata": {},
   "outputs": [],
   "source": [
    "# del test_data1\n",
    "# del test_data2 "
   ]
  },
  {
   "cell_type": "code",
   "execution_count": 95,
   "id": "109fab27",
   "metadata": {},
   "outputs": [
    {
     "data": {
      "text/html": [
       "<div>\n",
       "<style scoped>\n",
       "    .dataframe tbody tr th:only-of-type {\n",
       "        vertical-align: middle;\n",
       "    }\n",
       "\n",
       "    .dataframe tbody tr th {\n",
       "        vertical-align: top;\n",
       "    }\n",
       "\n",
       "    .dataframe thead th {\n",
       "        text-align: right;\n",
       "    }\n",
       "</style>\n",
       "<table border=\"1\" class=\"dataframe\">\n",
       "  <thead>\n",
       "    <tr style=\"text-align: right;\">\n",
       "      <th></th>\n",
       "      <th>customer_ID</th>\n",
       "      <th>S_2</th>\n",
       "      <th>P_2</th>\n",
       "      <th>D_39</th>\n",
       "      <th>B_1</th>\n",
       "      <th>B_2</th>\n",
       "      <th>R_1</th>\n",
       "      <th>S_3</th>\n",
       "      <th>D_41</th>\n",
       "      <th>B_3</th>\n",
       "      <th>...</th>\n",
       "      <th>D_136</th>\n",
       "      <th>D_137</th>\n",
       "      <th>D_138</th>\n",
       "      <th>D_139</th>\n",
       "      <th>D_140</th>\n",
       "      <th>D_141</th>\n",
       "      <th>D_142</th>\n",
       "      <th>D_143</th>\n",
       "      <th>D_144</th>\n",
       "      <th>D_145</th>\n",
       "    </tr>\n",
       "  </thead>\n",
       "  <tbody>\n",
       "    <tr>\n",
       "      <th>0</th>\n",
       "      <td>0000099d6bd597052cdcda90ffabf56573fe9d7c79be5f...</td>\n",
       "      <td>2017-03-09</td>\n",
       "      <td>0.938477</td>\n",
       "      <td>0.001734</td>\n",
       "      <td>0.008728</td>\n",
       "      <td>1.006836</td>\n",
       "      <td>0.009224</td>\n",
       "      <td>0.124023</td>\n",
       "      <td>0.008774</td>\n",
       "      <td>0.004707</td>\n",
       "      <td>...</td>\n",
       "      <td>NaN</td>\n",
       "      <td>NaN</td>\n",
       "      <td>NaN</td>\n",
       "      <td>0.002426</td>\n",
       "      <td>0.003706</td>\n",
       "      <td>0.003819</td>\n",
       "      <td>NaN</td>\n",
       "      <td>0.000569</td>\n",
       "      <td>0.000610</td>\n",
       "      <td>0.002674</td>\n",
       "    </tr>\n",
       "    <tr>\n",
       "      <th>1</th>\n",
       "      <td>0000099d6bd597052cdcda90ffabf56573fe9d7c79be5f...</td>\n",
       "      <td>2017-04-07</td>\n",
       "      <td>0.936523</td>\n",
       "      <td>0.005775</td>\n",
       "      <td>0.004925</td>\n",
       "      <td>1.000977</td>\n",
       "      <td>0.006153</td>\n",
       "      <td>0.126709</td>\n",
       "      <td>0.000798</td>\n",
       "      <td>0.002714</td>\n",
       "      <td>...</td>\n",
       "      <td>NaN</td>\n",
       "      <td>NaN</td>\n",
       "      <td>NaN</td>\n",
       "      <td>0.003956</td>\n",
       "      <td>0.003166</td>\n",
       "      <td>0.005032</td>\n",
       "      <td>NaN</td>\n",
       "      <td>0.009575</td>\n",
       "      <td>0.005493</td>\n",
       "      <td>0.009216</td>\n",
       "    </tr>\n",
       "    <tr>\n",
       "      <th>2</th>\n",
       "      <td>0000099d6bd597052cdcda90ffabf56573fe9d7c79be5f...</td>\n",
       "      <td>2017-05-28</td>\n",
       "      <td>0.954102</td>\n",
       "      <td>0.091492</td>\n",
       "      <td>0.021652</td>\n",
       "      <td>1.009766</td>\n",
       "      <td>0.006817</td>\n",
       "      <td>0.123962</td>\n",
       "      <td>0.007599</td>\n",
       "      <td>0.009422</td>\n",
       "      <td>...</td>\n",
       "      <td>NaN</td>\n",
       "      <td>NaN</td>\n",
       "      <td>NaN</td>\n",
       "      <td>0.003269</td>\n",
       "      <td>0.007328</td>\n",
       "      <td>0.000427</td>\n",
       "      <td>NaN</td>\n",
       "      <td>0.003429</td>\n",
       "      <td>0.006985</td>\n",
       "      <td>0.002604</td>\n",
       "    </tr>\n",
       "    <tr>\n",
       "      <th>3</th>\n",
       "      <td>0000099d6bd597052cdcda90ffabf56573fe9d7c79be5f...</td>\n",
       "      <td>2017-06-13</td>\n",
       "      <td>0.960449</td>\n",
       "      <td>0.002455</td>\n",
       "      <td>0.013687</td>\n",
       "      <td>1.002930</td>\n",
       "      <td>0.001372</td>\n",
       "      <td>0.117188</td>\n",
       "      <td>0.000685</td>\n",
       "      <td>0.005531</td>\n",
       "      <td>...</td>\n",
       "      <td>NaN</td>\n",
       "      <td>NaN</td>\n",
       "      <td>NaN</td>\n",
       "      <td>0.006119</td>\n",
       "      <td>0.004517</td>\n",
       "      <td>0.003201</td>\n",
       "      <td>NaN</td>\n",
       "      <td>0.008423</td>\n",
       "      <td>0.006527</td>\n",
       "      <td>0.009598</td>\n",
       "    </tr>\n",
       "    <tr>\n",
       "      <th>4</th>\n",
       "      <td>0000099d6bd597052cdcda90ffabf56573fe9d7c79be5f...</td>\n",
       "      <td>2017-07-16</td>\n",
       "      <td>0.947266</td>\n",
       "      <td>0.002483</td>\n",
       "      <td>0.015190</td>\n",
       "      <td>1.000977</td>\n",
       "      <td>0.007607</td>\n",
       "      <td>0.117310</td>\n",
       "      <td>0.004654</td>\n",
       "      <td>0.009308</td>\n",
       "      <td>...</td>\n",
       "      <td>NaN</td>\n",
       "      <td>NaN</td>\n",
       "      <td>NaN</td>\n",
       "      <td>0.003672</td>\n",
       "      <td>0.004944</td>\n",
       "      <td>0.008888</td>\n",
       "      <td>NaN</td>\n",
       "      <td>0.001670</td>\n",
       "      <td>0.008125</td>\n",
       "      <td>0.009827</td>\n",
       "    </tr>\n",
       "  </tbody>\n",
       "</table>\n",
       "<p>5 rows × 190 columns</p>\n",
       "</div>"
      ],
      "text/plain": [
       "                                         customer_ID         S_2       P_2  \\\n",
       "0  0000099d6bd597052cdcda90ffabf56573fe9d7c79be5f...  2017-03-09  0.938477   \n",
       "1  0000099d6bd597052cdcda90ffabf56573fe9d7c79be5f...  2017-04-07  0.936523   \n",
       "2  0000099d6bd597052cdcda90ffabf56573fe9d7c79be5f...  2017-05-28  0.954102   \n",
       "3  0000099d6bd597052cdcda90ffabf56573fe9d7c79be5f...  2017-06-13  0.960449   \n",
       "4  0000099d6bd597052cdcda90ffabf56573fe9d7c79be5f...  2017-07-16  0.947266   \n",
       "\n",
       "       D_39       B_1       B_2       R_1       S_3      D_41       B_3  ...  \\\n",
       "0  0.001734  0.008728  1.006836  0.009224  0.124023  0.008774  0.004707  ...   \n",
       "1  0.005775  0.004925  1.000977  0.006153  0.126709  0.000798  0.002714  ...   \n",
       "2  0.091492  0.021652  1.009766  0.006817  0.123962  0.007599  0.009422  ...   \n",
       "3  0.002455  0.013687  1.002930  0.001372  0.117188  0.000685  0.005531  ...   \n",
       "4  0.002483  0.015190  1.000977  0.007607  0.117310  0.004654  0.009308  ...   \n",
       "\n",
       "   D_136  D_137  D_138     D_139     D_140     D_141  D_142     D_143  \\\n",
       "0    NaN    NaN    NaN  0.002426  0.003706  0.003819    NaN  0.000569   \n",
       "1    NaN    NaN    NaN  0.003956  0.003166  0.005032    NaN  0.009575   \n",
       "2    NaN    NaN    NaN  0.003269  0.007328  0.000427    NaN  0.003429   \n",
       "3    NaN    NaN    NaN  0.006119  0.004517  0.003201    NaN  0.008423   \n",
       "4    NaN    NaN    NaN  0.003672  0.004944  0.008888    NaN  0.001670   \n",
       "\n",
       "      D_144     D_145  \n",
       "0  0.000610  0.002674  \n",
       "1  0.005493  0.009216  \n",
       "2  0.006985  0.002604  \n",
       "3  0.006527  0.009598  \n",
       "4  0.008125  0.009827  \n",
       "\n",
       "[5 rows x 190 columns]"
      ]
     },
     "execution_count": 95,
     "metadata": {},
     "output_type": "execute_result"
    }
   ],
   "source": [
    "train_df.head()"
   ]
  },
  {
   "cell_type": "code",
   "execution_count": 96,
   "id": "3f832e17",
   "metadata": {},
   "outputs": [],
   "source": [
    "train_df['S_2'] = train_df['S_2'].str.replace(\"-\", \"\").str[0:6]"
   ]
  },
  {
   "cell_type": "code",
   "execution_count": 97,
   "id": "759b97b8",
   "metadata": {},
   "outputs": [
    {
     "data": {
      "text/plain": [
       "D_87     99.930127\n",
       "D_88     99.891457\n",
       "D_108    99.476846\n",
       "D_111    99.433530\n",
       "D_110    99.433530\n",
       "B_39     99.391986\n",
       "D_73     98.990211\n",
       "B_42     98.707789\n",
       "D_134    96.480146\n",
       "D_135    96.480146\n",
       "D_136    96.480146\n",
       "D_137    96.480146\n",
       "D_138    96.480146\n",
       "R_9      94.349891\n",
       "B_29     93.104594\n",
       "D_106    90.213255\n",
       "D_132    90.191055\n",
       "D_49     90.137597\n",
       "R_26     88.984717\n",
       "D_76     88.746226\n",
       "D_66     88.730733\n",
       "D_42     85.694278\n",
       "D_142    82.926577\n",
       "D_53     73.842921\n",
       "D_82     73.373406\n",
       "D_50     56.809723\n",
       "B_17     56.722874\n",
       "D_105    54.622756\n",
       "D_56     54.071581\n",
       "S_9      53.035686\n",
       "dtype: float64"
      ]
     },
     "execution_count": 97,
     "metadata": {},
     "output_type": "execute_result"
    }
   ],
   "source": [
    "null_percentages = train_df.isnull().sum() * 100 / len(train_df)\n",
    "null_percentages.sort_values(ascending = False).head(30)"
   ]
  },
  {
   "cell_type": "code",
   "execution_count": 98,
   "id": "c8946a87",
   "metadata": {},
   "outputs": [
    {
     "name": "stdout",
     "output_type": "stream",
     "text": [
      "<class 'pandas.core.frame.DataFrame'>\n",
      "RangeIndex: 5531451 entries, 0 to 5531450\n",
      "Columns: 190 entries, customer_ID to D_145\n",
      "dtypes: float32(177), object(13)\n",
      "memory usage: 4.2+ GB\n"
     ]
    }
   ],
   "source": [
    "train_df.info()"
   ]
  },
  {
   "cell_type": "code",
   "execution_count": 99,
   "id": "58bbd83c",
   "metadata": {},
   "outputs": [],
   "source": [
    "# Drop the columns that contains more than 50% of null values.\n",
    "train_df.drop(list(null_percentages.sort_values(ascending = False).head(30).index), axis = 1, inplace = True)"
   ]
  },
  {
   "cell_type": "code",
   "execution_count": 100,
   "id": "7f07908d",
   "metadata": {},
   "outputs": [
    {
     "name": "stdout",
     "output_type": "stream",
     "text": [
      "<class 'pandas.core.frame.DataFrame'>\n",
      "RangeIndex: 5531451 entries, 0 to 5531450\n",
      "Columns: 160 entries, customer_ID to D_145\n",
      "dtypes: float32(148), object(12)\n",
      "memory usage: 3.5+ GB\n"
     ]
    }
   ],
   "source": [
    "train_df.info()"
   ]
  },
  {
   "cell_type": "markdown",
   "id": "652796a8",
   "metadata": {},
   "source": [
    "# Categorical data null analysis and conversion"
   ]
  },
  {
   "cell_type": "code",
   "execution_count": 101,
   "id": "f116ccf6",
   "metadata": {},
   "outputs": [],
   "source": [
    "# Find the columns that contains the categorical values.\n",
    "cat_columns = list(train_df.select_dtypes('object').columns)"
   ]
  },
  {
   "cell_type": "code",
   "execution_count": 102,
   "id": "c7450d9a",
   "metadata": {},
   "outputs": [
    {
     "data": {
      "text/plain": [
       "D_64           3.931012\n",
       "D_68           3.914036\n",
       "D_114          3.194749\n",
       "D_116          3.194749\n",
       "D_117          3.194749\n",
       "D_120          3.194749\n",
       "D_126          2.111851\n",
       "B_30           0.036446\n",
       "B_38           0.036446\n",
       "customer_ID    0.000000\n",
       "S_2            0.000000\n",
       "D_63           0.000000\n",
       "dtype: float64"
      ]
     },
     "execution_count": 102,
     "metadata": {},
     "output_type": "execute_result"
    }
   ],
   "source": [
    "# Calculate and sort the null percentages for each column.\n",
    "null_percentages = train_df[cat_columns].isnull().sum() * 100 / len(train_df)\n",
    "null_percentages.sort_values(ascending = False).head(30)"
   ]
  },
  {
   "cell_type": "code",
   "execution_count": 103,
   "id": "75d84c6c",
   "metadata": {},
   "outputs": [
    {
     "data": {
      "text/plain": [
       "O     2913244\n",
       "U     1523448\n",
       "R      840112\n",
       "-1      37205\n",
       "Name: D_64, dtype: int64"
      ]
     },
     "execution_count": 103,
     "metadata": {},
     "output_type": "execute_result"
    }
   ],
   "source": [
    "# Check the value frequencies for D_64 column.\n",
    "train_df.D_64.value_counts()"
   ]
  },
  {
   "cell_type": "code",
   "execution_count": 104,
   "id": "c1f9284a",
   "metadata": {},
   "outputs": [],
   "source": [
    "# Fill the Null values as NA, since it is a deliquency (minor crime, especially that committed by young people.) field.\n",
    "train_df.D_64.fillna(\"NA\", inplace = True)\n",
    "train_df.D_64 = train_df.D_64.str.replace(\"-1\", \"NA\")"
   ]
  },
  {
   "cell_type": "code",
   "execution_count": 105,
   "id": "6785d804",
   "metadata": {},
   "outputs": [
    {
     "data": {
      "text/plain": [
       "O     2913244\n",
       "U     1523448\n",
       "R      840112\n",
       "NA     254647\n",
       "Name: D_64, dtype: int64"
      ]
     },
     "execution_count": 105,
     "metadata": {},
     "output_type": "execute_result"
    }
   ],
   "source": [
    "# Normalized by the meaning of value counts.\n",
    "train_df.D_64.value_counts()"
   ]
  },
  {
   "cell_type": "code",
   "execution_count": 106,
   "id": "8edded99",
   "metadata": {},
   "outputs": [
    {
     "data": {
      "text/plain": [
       "6.0    2782455\n",
       "5.0    1201706\n",
       "3.0     484442\n",
       "4.0     477187\n",
       "2.0     220111\n",
       "1.0     133122\n",
       "0.0      15925\n",
       "Name: D_68, dtype: int64"
      ]
     },
     "execution_count": 106,
     "metadata": {},
     "output_type": "execute_result"
    }
   ],
   "source": [
    "# Check the value frequencies for D_68 column.\n",
    "train_df.D_68.value_counts()"
   ]
  },
  {
   "cell_type": "code",
   "execution_count": 107,
   "id": "d6bee0c3",
   "metadata": {},
   "outputs": [],
   "source": [
    "# The field is categorical, however we observe some numeric values. It might be because of many things.\n",
    "# We could put -1 as representative for Null values.\n",
    "train_df.D_68.fillna(\"-1\", inplace = True)"
   ]
  },
  {
   "cell_type": "code",
   "execution_count": 108,
   "id": "278c4f18",
   "metadata": {},
   "outputs": [
    {
     "data": {
      "text/plain": [
       "6.0    2782455\n",
       "5.0    1201706\n",
       "3.0     484442\n",
       "4.0     477187\n",
       "2.0     220111\n",
       "-1      216503\n",
       "1.0     133122\n",
       "0.0      15925\n",
       "Name: D_68, dtype: int64"
      ]
     },
     "execution_count": 108,
     "metadata": {},
     "output_type": "execute_result"
    }
   ],
   "source": [
    "# Check the value frequencies for D_68 column.\n",
    "train_df.D_68.value_counts()"
   ]
  },
  {
   "cell_type": "code",
   "execution_count": 109,
   "id": "65a721a5",
   "metadata": {},
   "outputs": [
    {
     "data": {
      "text/plain": [
       "1.0    3316478\n",
       "0.0    2038257\n",
       "Name: D_114, dtype: int64"
      ]
     },
     "execution_count": 109,
     "metadata": {},
     "output_type": "execute_result"
    }
   ],
   "source": [
    "# For the columns D_114, D_116, D_117, D_120 the null percentage is the same, which is interesting.\n",
    "# Let's see if the null values are actually on the same rows. That would mean that those feature could be conditionally dependent.\n",
    "\n",
    "train_df.D_114.value_counts()"
   ]
  },
  {
   "cell_type": "code",
   "execution_count": 110,
   "id": "f7921344",
   "metadata": {},
   "outputs": [],
   "source": [
    "train_df.D_114.fillna(\"-1\", inplace = True)"
   ]
  },
  {
   "cell_type": "code",
   "execution_count": 111,
   "id": "ed842117",
   "metadata": {},
   "outputs": [
    {
     "data": {
      "text/plain": [
       "1.0    3316478\n",
       "0.0    2038257\n",
       "-1      176716\n",
       "Name: D_114, dtype: int64"
      ]
     },
     "execution_count": 111,
     "metadata": {},
     "output_type": "execute_result"
    }
   ],
   "source": [
    "train_df.D_114.value_counts()"
   ]
  },
  {
   "cell_type": "code",
   "execution_count": 112,
   "id": "268cdf99",
   "metadata": {},
   "outputs": [
    {
     "data": {
      "text/plain": [
       "0.0    5348109\n",
       "1.0       6626\n",
       "Name: D_116, dtype: int64"
      ]
     },
     "execution_count": 112,
     "metadata": {},
     "output_type": "execute_result"
    }
   ],
   "source": [
    "train_df.D_116.value_counts()"
   ]
  },
  {
   "cell_type": "code",
   "execution_count": 113,
   "id": "824813d3",
   "metadata": {},
   "outputs": [],
   "source": [
    "train_df.D_116.fillna(\"-1\", inplace = True)"
   ]
  },
  {
   "cell_type": "code",
   "execution_count": 114,
   "id": "129b7057",
   "metadata": {},
   "outputs": [
    {
     "data": {
      "text/plain": [
       "0.0    5348109\n",
       "-1      176716\n",
       "1.0       6626\n",
       "Name: D_116, dtype: int64"
      ]
     },
     "execution_count": 114,
     "metadata": {},
     "output_type": "execute_result"
    }
   ],
   "source": [
    "train_df.D_116.value_counts()"
   ]
  },
  {
   "cell_type": "code",
   "execution_count": 115,
   "id": "64a74bb1",
   "metadata": {},
   "outputs": [
    {
     "data": {
      "text/plain": [
       "-1.0    1456084\n",
       "3.0     1166400\n",
       "4.0     1138666\n",
       "2.0      666808\n",
       "5.0      459290\n",
       "6.0      344520\n",
       "1.0      122967\n",
       "Name: D_117, dtype: int64"
      ]
     },
     "execution_count": 115,
     "metadata": {},
     "output_type": "execute_result"
    }
   ],
   "source": [
    "train_df.D_117.value_counts()"
   ]
  },
  {
   "cell_type": "code",
   "execution_count": 116,
   "id": "89bc8adc",
   "metadata": {},
   "outputs": [],
   "source": [
    "# Filling with -2 because we already have -1. I reckon -1 also has a special meaning, however it is the most frequent value.\n",
    "# Therefore for now we will keep it as -1 and nulls will be -2. This could be changed at other iterations.\n",
    "train_df.D_117.fillna(\"-2\", inplace = True)"
   ]
  },
  {
   "cell_type": "code",
   "execution_count": 117,
   "id": "f13ad273",
   "metadata": {},
   "outputs": [
    {
     "data": {
      "text/plain": [
       "-1.0    1456084\n",
       "3.0     1166400\n",
       "4.0     1138666\n",
       "2.0      666808\n",
       "5.0      459290\n",
       "6.0      344520\n",
       "-2       176716\n",
       "1.0      122967\n",
       "Name: D_117, dtype: int64"
      ]
     },
     "execution_count": 117,
     "metadata": {},
     "output_type": "execute_result"
    }
   ],
   "source": [
    "train_df.D_117.value_counts()"
   ]
  },
  {
   "cell_type": "code",
   "execution_count": 118,
   "id": "2cfa823d",
   "metadata": {},
   "outputs": [
    {
     "data": {
      "text/plain": [
       "0.0    4729723\n",
       "1.0     625012\n",
       "Name: D_120, dtype: int64"
      ]
     },
     "execution_count": 118,
     "metadata": {},
     "output_type": "execute_result"
    }
   ],
   "source": [
    "train_df.D_120.value_counts()"
   ]
  },
  {
   "cell_type": "code",
   "execution_count": 119,
   "id": "3d6d6dea",
   "metadata": {},
   "outputs": [],
   "source": [
    "train_df.D_120.fillna(\"-1\", inplace = True)"
   ]
  },
  {
   "cell_type": "code",
   "execution_count": 120,
   "id": "6b4768ec",
   "metadata": {},
   "outputs": [
    {
     "data": {
      "text/plain": [
       "0.0    4729723\n",
       "1.0     625012\n",
       "-1      176716\n",
       "Name: D_120, dtype: int64"
      ]
     },
     "execution_count": 120,
     "metadata": {},
     "output_type": "execute_result"
    }
   ],
   "source": [
    "train_df.D_120.value_counts()"
   ]
  },
  {
   "cell_type": "code",
   "execution_count": 121,
   "id": "67fceed3",
   "metadata": {},
   "outputs": [
    {
     "data": {
      "text/plain": [
       "1.0     4262414\n",
       "0.0      891323\n",
       "-1.0     260898\n",
       "Name: D_126, dtype: int64"
      ]
     },
     "execution_count": 121,
     "metadata": {},
     "output_type": "execute_result"
    }
   ],
   "source": [
    "train_df.D_126.value_counts()"
   ]
  },
  {
   "cell_type": "code",
   "execution_count": 122,
   "id": "79ada3af",
   "metadata": {},
   "outputs": [],
   "source": [
    "train_df.D_126.fillna(\"-2\", inplace = True)"
   ]
  },
  {
   "cell_type": "code",
   "execution_count": 123,
   "id": "f246ea16",
   "metadata": {},
   "outputs": [
    {
     "data": {
      "text/plain": [
       "1.0     4262414\n",
       "0.0      891323\n",
       "-1.0     260898\n",
       "-2       116816\n",
       "Name: D_126, dtype: int64"
      ]
     },
     "execution_count": 123,
     "metadata": {},
     "output_type": "execute_result"
    }
   ],
   "source": [
    "train_df.D_126.value_counts()"
   ]
  },
  {
   "cell_type": "code",
   "execution_count": 124,
   "id": "aa915e1a",
   "metadata": {},
   "outputs": [
    {
     "data": {
      "text/plain": [
       "0.0    4710663\n",
       "1.0     763955\n",
       "2.0      54817\n",
       "Name: B_30, dtype: int64"
      ]
     },
     "execution_count": 124,
     "metadata": {},
     "output_type": "execute_result"
    }
   ],
   "source": [
    "train_df.B_30.value_counts()"
   ]
  },
  {
   "cell_type": "code",
   "execution_count": 125,
   "id": "cea0c3c8",
   "metadata": {},
   "outputs": [],
   "source": [
    "train_df.B_30.fillna(\"-1\", inplace = True)"
   ]
  },
  {
   "cell_type": "code",
   "execution_count": 126,
   "id": "230d4a3e",
   "metadata": {},
   "outputs": [
    {
     "data": {
      "text/plain": [
       "0.0    4710663\n",
       "1.0     763955\n",
       "2.0      54817\n",
       "-1        2016\n",
       "Name: B_30, dtype: int64"
      ]
     },
     "execution_count": 126,
     "metadata": {},
     "output_type": "execute_result"
    }
   ],
   "source": [
    "train_df.B_30.value_counts()"
   ]
  },
  {
   "cell_type": "code",
   "execution_count": 127,
   "id": "86347513",
   "metadata": {},
   "outputs": [
    {
     "data": {
      "text/plain": [
       "2.0    1953232\n",
       "3.0    1255315\n",
       "1.0    1160047\n",
       "5.0     444856\n",
       "4.0     294917\n",
       "7.0     259028\n",
       "6.0     162040\n",
       "Name: B_38, dtype: int64"
      ]
     },
     "execution_count": 127,
     "metadata": {},
     "output_type": "execute_result"
    }
   ],
   "source": [
    "train_df.B_38.value_counts()"
   ]
  },
  {
   "cell_type": "code",
   "execution_count": 128,
   "id": "3bbc205f",
   "metadata": {},
   "outputs": [],
   "source": [
    "train_df.B_38.fillna(\"-1\", inplace = True)"
   ]
  },
  {
   "cell_type": "code",
   "execution_count": 129,
   "id": "31161c47",
   "metadata": {},
   "outputs": [
    {
     "data": {
      "text/plain": [
       "2.0    1953232\n",
       "3.0    1255315\n",
       "1.0    1160047\n",
       "5.0     444856\n",
       "4.0     294917\n",
       "7.0     259028\n",
       "6.0     162040\n",
       "-1        2016\n",
       "Name: B_38, dtype: int64"
      ]
     },
     "execution_count": 129,
     "metadata": {},
     "output_type": "execute_result"
    }
   ],
   "source": [
    "train_df.B_38.value_counts()"
   ]
  },
  {
   "cell_type": "code",
   "execution_count": 130,
   "id": "13eee750",
   "metadata": {},
   "outputs": [],
   "source": [
    "customer_ids = train_df['customer_ID']\n",
    "train_df.drop(\"customer_ID\", axis = 1,inplace = True)"
   ]
  },
  {
   "cell_type": "code",
   "execution_count": 131,
   "id": "62ff6912",
   "metadata": {},
   "outputs": [
    {
     "data": {
      "text/plain": [
       "CO    4119621\n",
       "CR     930133\n",
       "CL     438390\n",
       "XZ      25786\n",
       "XM      10556\n",
       "XL       6965\n",
       "Name: D_63, dtype: int64"
      ]
     },
     "execution_count": 131,
     "metadata": {},
     "output_type": "execute_result"
    }
   ],
   "source": [
    "train_df.D_63.value_counts()"
   ]
  },
  {
   "cell_type": "code",
   "execution_count": 132,
   "id": "9a9ffdff",
   "metadata": {},
   "outputs": [
    {
     "data": {
      "text/plain": [
       "['S_2',\n",
       " 'D_63',\n",
       " 'D_64',\n",
       " 'D_68',\n",
       " 'B_30',\n",
       " 'B_38',\n",
       " 'D_114',\n",
       " 'D_116',\n",
       " 'D_117',\n",
       " 'D_120',\n",
       " 'D_126']"
      ]
     },
     "execution_count": 132,
     "metadata": {},
     "output_type": "execute_result"
    }
   ],
   "source": [
    "cat_columns.remove(\"customer_ID\")\n",
    "cat_columns"
   ]
  },
  {
   "cell_type": "code",
   "execution_count": 133,
   "id": "0d0c9c2a",
   "metadata": {},
   "outputs": [],
   "source": [
    "# The imputation done in a very easy way. Therefore, for the next iterations we could change our approach based on more analysis.\n",
    "# Now, it is time for the categorical --> numeric conversion.\n",
    "train_df = pd.get_dummies(train_df)"
   ]
  },
  {
   "cell_type": "code",
   "execution_count": 134,
   "id": "83df3e69",
   "metadata": {},
   "outputs": [
    {
     "name": "stdout",
     "output_type": "stream",
     "text": [
      "<class 'pandas.core.frame.DataFrame'>\n",
      "RangeIndex: 5531451 entries, 0 to 5531450\n",
      "Columns: 212 entries, P_2 to D_126_1.0\n",
      "dtypes: float32(148), uint8(64)\n",
      "memory usage: 3.4 GB\n"
     ]
    }
   ],
   "source": [
    "train_df.info()"
   ]
  },
  {
   "cell_type": "markdown",
   "id": "b03088f0",
   "metadata": {},
   "source": [
    "# Numeric value imputation"
   ]
  },
  {
   "cell_type": "code",
   "execution_count": 135,
   "id": "85e3969c",
   "metadata": {},
   "outputs": [],
   "source": [
    "# Find the columns that contains the categorical values.\n",
    "numeric_columns = list(train_df.select_dtypes('float32').columns)"
   ]
  },
  {
   "cell_type": "code",
   "execution_count": 136,
   "id": "7876fb29",
   "metadata": {},
   "outputs": [
    {
     "data": {
      "text/plain": [
       "['P_2',\n",
       " 'D_39',\n",
       " 'B_1',\n",
       " 'B_2',\n",
       " 'R_1',\n",
       " 'S_3',\n",
       " 'D_41',\n",
       " 'B_3',\n",
       " 'D_43',\n",
       " 'D_44',\n",
       " 'B_4',\n",
       " 'D_45',\n",
       " 'B_5',\n",
       " 'R_2',\n",
       " 'D_46',\n",
       " 'D_47',\n",
       " 'D_48',\n",
       " 'B_6',\n",
       " 'B_7',\n",
       " 'B_8',\n",
       " 'D_51',\n",
       " 'B_9',\n",
       " 'R_3',\n",
       " 'D_52',\n",
       " 'P_3',\n",
       " 'B_10',\n",
       " 'S_5',\n",
       " 'B_11',\n",
       " 'S_6',\n",
       " 'D_54',\n",
       " 'R_4',\n",
       " 'S_7',\n",
       " 'B_12',\n",
       " 'S_8',\n",
       " 'D_55',\n",
       " 'B_13',\n",
       " 'R_5',\n",
       " 'D_58',\n",
       " 'B_14',\n",
       " 'D_59',\n",
       " 'D_60',\n",
       " 'D_61',\n",
       " 'B_15',\n",
       " 'S_11',\n",
       " 'D_62',\n",
       " 'D_65',\n",
       " 'B_16',\n",
       " 'B_18',\n",
       " 'B_19',\n",
       " 'B_20',\n",
       " 'S_12',\n",
       " 'R_6',\n",
       " 'S_13',\n",
       " 'B_21',\n",
       " 'D_69',\n",
       " 'B_22',\n",
       " 'D_70',\n",
       " 'D_71',\n",
       " 'D_72',\n",
       " 'S_15',\n",
       " 'B_23',\n",
       " 'P_4',\n",
       " 'D_74',\n",
       " 'D_75',\n",
       " 'B_24',\n",
       " 'R_7',\n",
       " 'D_77',\n",
       " 'B_25',\n",
       " 'B_26',\n",
       " 'D_78',\n",
       " 'D_79',\n",
       " 'R_8',\n",
       " 'S_16',\n",
       " 'D_80',\n",
       " 'R_10',\n",
       " 'R_11',\n",
       " 'B_27',\n",
       " 'D_81',\n",
       " 'S_17',\n",
       " 'R_12',\n",
       " 'B_28',\n",
       " 'R_13',\n",
       " 'D_83',\n",
       " 'R_14',\n",
       " 'R_15',\n",
       " 'D_84',\n",
       " 'R_16',\n",
       " 'S_18',\n",
       " 'D_86',\n",
       " 'R_17',\n",
       " 'R_18',\n",
       " 'B_31',\n",
       " 'S_19',\n",
       " 'R_19',\n",
       " 'B_32',\n",
       " 'S_20',\n",
       " 'R_20',\n",
       " 'R_21',\n",
       " 'B_33',\n",
       " 'D_89',\n",
       " 'R_22',\n",
       " 'R_23',\n",
       " 'D_91',\n",
       " 'D_92',\n",
       " 'D_93',\n",
       " 'D_94',\n",
       " 'R_24',\n",
       " 'R_25',\n",
       " 'D_96',\n",
       " 'S_22',\n",
       " 'S_23',\n",
       " 'S_24',\n",
       " 'S_25',\n",
       " 'S_26',\n",
       " 'D_102',\n",
       " 'D_103',\n",
       " 'D_104',\n",
       " 'D_107',\n",
       " 'B_36',\n",
       " 'B_37',\n",
       " 'R_27',\n",
       " 'D_109',\n",
       " 'D_112',\n",
       " 'B_40',\n",
       " 'S_27',\n",
       " 'D_113',\n",
       " 'D_115',\n",
       " 'D_118',\n",
       " 'D_119',\n",
       " 'D_121',\n",
       " 'D_122',\n",
       " 'D_123',\n",
       " 'D_124',\n",
       " 'D_125',\n",
       " 'D_127',\n",
       " 'D_128',\n",
       " 'D_129',\n",
       " 'B_41',\n",
       " 'D_130',\n",
       " 'D_131',\n",
       " 'D_133',\n",
       " 'R_28',\n",
       " 'D_139',\n",
       " 'D_140',\n",
       " 'D_141',\n",
       " 'D_143',\n",
       " 'D_144',\n",
       " 'D_145']"
      ]
     },
     "execution_count": 136,
     "metadata": {},
     "output_type": "execute_result"
    }
   ],
   "source": [
    "numeric_columns"
   ]
  },
  {
   "cell_type": "code",
   "execution_count": 137,
   "id": "c73ed8dc",
   "metadata": {},
   "outputs": [],
   "source": [
    "# Let's find and impute the missing values for each numeric values now to make the data \"ready\".\n",
    "imp_mean = SimpleImputer(missing_values=np.nan, strategy='mean')\n",
    "\n",
    "train_df[numeric_columns] = pd.DataFrame(imp_mean.fit_transform(train_df[numeric_columns]), columns = numeric_columns)"
   ]
  },
  {
   "cell_type": "code",
   "execution_count": 138,
   "id": "374e74e6",
   "metadata": {},
   "outputs": [
    {
     "data": {
      "text/plain": [
       "0"
      ]
     },
     "execution_count": 138,
     "metadata": {},
     "output_type": "execute_result"
    }
   ],
   "source": [
    "# Test that we have no null values left, both for the numerical and categorical features. We expect max null values as \"0\".\n",
    "train_df.isna().sum().max()"
   ]
  },
  {
   "cell_type": "code",
   "execution_count": 139,
   "id": "df8cebe2",
   "metadata": {},
   "outputs": [
    {
     "data": {
      "text/html": [
       "<div>\n",
       "<style scoped>\n",
       "    .dataframe tbody tr th:only-of-type {\n",
       "        vertical-align: middle;\n",
       "    }\n",
       "\n",
       "    .dataframe tbody tr th {\n",
       "        vertical-align: top;\n",
       "    }\n",
       "\n",
       "    .dataframe thead th {\n",
       "        text-align: right;\n",
       "    }\n",
       "</style>\n",
       "<table border=\"1\" class=\"dataframe\">\n",
       "  <thead>\n",
       "    <tr style=\"text-align: right;\">\n",
       "      <th></th>\n",
       "      <th>P_2</th>\n",
       "      <th>D_39</th>\n",
       "      <th>B_1</th>\n",
       "      <th>B_2</th>\n",
       "      <th>R_1</th>\n",
       "      <th>S_3</th>\n",
       "      <th>D_41</th>\n",
       "      <th>B_3</th>\n",
       "      <th>D_43</th>\n",
       "      <th>D_44</th>\n",
       "      <th>...</th>\n",
       "      <th>D_117_4.0</th>\n",
       "      <th>D_117_5.0</th>\n",
       "      <th>D_117_6.0</th>\n",
       "      <th>D_120_-1</th>\n",
       "      <th>D_120_0.0</th>\n",
       "      <th>D_120_1.0</th>\n",
       "      <th>D_126_-1.0</th>\n",
       "      <th>D_126_-2</th>\n",
       "      <th>D_126_0.0</th>\n",
       "      <th>D_126_1.0</th>\n",
       "    </tr>\n",
       "  </thead>\n",
       "  <tbody>\n",
       "    <tr>\n",
       "      <th>0</th>\n",
       "      <td>0.938477</td>\n",
       "      <td>0.001734</td>\n",
       "      <td>0.008728</td>\n",
       "      <td>1.006836</td>\n",
       "      <td>0.009224</td>\n",
       "      <td>0.124023</td>\n",
       "      <td>0.008774</td>\n",
       "      <td>0.004707</td>\n",
       "      <td>0.154684</td>\n",
       "      <td>0.000630</td>\n",
       "      <td>...</td>\n",
       "      <td>1</td>\n",
       "      <td>0</td>\n",
       "      <td>0</td>\n",
       "      <td>0</td>\n",
       "      <td>1</td>\n",
       "      <td>0</td>\n",
       "      <td>0</td>\n",
       "      <td>0</td>\n",
       "      <td>0</td>\n",
       "      <td>1</td>\n",
       "    </tr>\n",
       "    <tr>\n",
       "      <th>1</th>\n",
       "      <td>0.936523</td>\n",
       "      <td>0.005775</td>\n",
       "      <td>0.004925</td>\n",
       "      <td>1.000977</td>\n",
       "      <td>0.006153</td>\n",
       "      <td>0.126709</td>\n",
       "      <td>0.000798</td>\n",
       "      <td>0.002714</td>\n",
       "      <td>0.154684</td>\n",
       "      <td>0.002525</td>\n",
       "      <td>...</td>\n",
       "      <td>1</td>\n",
       "      <td>0</td>\n",
       "      <td>0</td>\n",
       "      <td>0</td>\n",
       "      <td>1</td>\n",
       "      <td>0</td>\n",
       "      <td>0</td>\n",
       "      <td>0</td>\n",
       "      <td>0</td>\n",
       "      <td>1</td>\n",
       "    </tr>\n",
       "    <tr>\n",
       "      <th>2</th>\n",
       "      <td>0.954102</td>\n",
       "      <td>0.091492</td>\n",
       "      <td>0.021652</td>\n",
       "      <td>1.009766</td>\n",
       "      <td>0.006817</td>\n",
       "      <td>0.123962</td>\n",
       "      <td>0.007599</td>\n",
       "      <td>0.009422</td>\n",
       "      <td>0.154684</td>\n",
       "      <td>0.007607</td>\n",
       "      <td>...</td>\n",
       "      <td>1</td>\n",
       "      <td>0</td>\n",
       "      <td>0</td>\n",
       "      <td>0</td>\n",
       "      <td>1</td>\n",
       "      <td>0</td>\n",
       "      <td>0</td>\n",
       "      <td>0</td>\n",
       "      <td>0</td>\n",
       "      <td>1</td>\n",
       "    </tr>\n",
       "    <tr>\n",
       "      <th>3</th>\n",
       "      <td>0.960449</td>\n",
       "      <td>0.002455</td>\n",
       "      <td>0.013687</td>\n",
       "      <td>1.002930</td>\n",
       "      <td>0.001372</td>\n",
       "      <td>0.117188</td>\n",
       "      <td>0.000685</td>\n",
       "      <td>0.005531</td>\n",
       "      <td>0.154684</td>\n",
       "      <td>0.006405</td>\n",
       "      <td>...</td>\n",
       "      <td>1</td>\n",
       "      <td>0</td>\n",
       "      <td>0</td>\n",
       "      <td>0</td>\n",
       "      <td>1</td>\n",
       "      <td>0</td>\n",
       "      <td>0</td>\n",
       "      <td>0</td>\n",
       "      <td>0</td>\n",
       "      <td>1</td>\n",
       "    </tr>\n",
       "    <tr>\n",
       "      <th>4</th>\n",
       "      <td>0.947266</td>\n",
       "      <td>0.002483</td>\n",
       "      <td>0.015190</td>\n",
       "      <td>1.000977</td>\n",
       "      <td>0.007607</td>\n",
       "      <td>0.117310</td>\n",
       "      <td>0.004654</td>\n",
       "      <td>0.009308</td>\n",
       "      <td>0.154684</td>\n",
       "      <td>0.007732</td>\n",
       "      <td>...</td>\n",
       "      <td>1</td>\n",
       "      <td>0</td>\n",
       "      <td>0</td>\n",
       "      <td>0</td>\n",
       "      <td>1</td>\n",
       "      <td>0</td>\n",
       "      <td>0</td>\n",
       "      <td>0</td>\n",
       "      <td>0</td>\n",
       "      <td>1</td>\n",
       "    </tr>\n",
       "  </tbody>\n",
       "</table>\n",
       "<p>5 rows × 212 columns</p>\n",
       "</div>"
      ],
      "text/plain": [
       "        P_2      D_39       B_1       B_2       R_1       S_3      D_41  \\\n",
       "0  0.938477  0.001734  0.008728  1.006836  0.009224  0.124023  0.008774   \n",
       "1  0.936523  0.005775  0.004925  1.000977  0.006153  0.126709  0.000798   \n",
       "2  0.954102  0.091492  0.021652  1.009766  0.006817  0.123962  0.007599   \n",
       "3  0.960449  0.002455  0.013687  1.002930  0.001372  0.117188  0.000685   \n",
       "4  0.947266  0.002483  0.015190  1.000977  0.007607  0.117310  0.004654   \n",
       "\n",
       "        B_3      D_43      D_44  ...  D_117_4.0  D_117_5.0  D_117_6.0  \\\n",
       "0  0.004707  0.154684  0.000630  ...          1          0          0   \n",
       "1  0.002714  0.154684  0.002525  ...          1          0          0   \n",
       "2  0.009422  0.154684  0.007607  ...          1          0          0   \n",
       "3  0.005531  0.154684  0.006405  ...          1          0          0   \n",
       "4  0.009308  0.154684  0.007732  ...          1          0          0   \n",
       "\n",
       "   D_120_-1  D_120_0.0  D_120_1.0  D_126_-1.0  D_126_-2  D_126_0.0  D_126_1.0  \n",
       "0         0          1          0           0         0          0          1  \n",
       "1         0          1          0           0         0          0          1  \n",
       "2         0          1          0           0         0          0          1  \n",
       "3         0          1          0           0         0          0          1  \n",
       "4         0          1          0           0         0          0          1  \n",
       "\n",
       "[5 rows x 212 columns]"
      ]
     },
     "execution_count": 139,
     "metadata": {},
     "output_type": "execute_result"
    }
   ],
   "source": [
    "train_df.head(5)"
   ]
  },
  {
   "cell_type": "code",
   "execution_count": 140,
   "id": "0e18a2c2",
   "metadata": {},
   "outputs": [],
   "source": [
    "train_labels = pd.read_csv(path + \"train_labels.csv\")"
   ]
  },
  {
   "cell_type": "code",
   "execution_count": 141,
   "id": "2f1da02a",
   "metadata": {},
   "outputs": [
    {
     "data": {
      "text/html": [
       "<div>\n",
       "<style scoped>\n",
       "    .dataframe tbody tr th:only-of-type {\n",
       "        vertical-align: middle;\n",
       "    }\n",
       "\n",
       "    .dataframe tbody tr th {\n",
       "        vertical-align: top;\n",
       "    }\n",
       "\n",
       "    .dataframe thead th {\n",
       "        text-align: right;\n",
       "    }\n",
       "</style>\n",
       "<table border=\"1\" class=\"dataframe\">\n",
       "  <thead>\n",
       "    <tr style=\"text-align: right;\">\n",
       "      <th></th>\n",
       "      <th>customer_ID</th>\n",
       "      <th>target</th>\n",
       "    </tr>\n",
       "  </thead>\n",
       "  <tbody>\n",
       "    <tr>\n",
       "      <th>0</th>\n",
       "      <td>0000099d6bd597052cdcda90ffabf56573fe9d7c79be5f...</td>\n",
       "      <td>0</td>\n",
       "    </tr>\n",
       "    <tr>\n",
       "      <th>1</th>\n",
       "      <td>00000fd6641609c6ece5454664794f0340ad84dddce9a2...</td>\n",
       "      <td>0</td>\n",
       "    </tr>\n",
       "    <tr>\n",
       "      <th>2</th>\n",
       "      <td>00001b22f846c82c51f6e3958ccd81970162bae8b007e8...</td>\n",
       "      <td>0</td>\n",
       "    </tr>\n",
       "    <tr>\n",
       "      <th>3</th>\n",
       "      <td>000041bdba6ecadd89a52d11886e8eaaec9325906c9723...</td>\n",
       "      <td>0</td>\n",
       "    </tr>\n",
       "    <tr>\n",
       "      <th>4</th>\n",
       "      <td>00007889e4fcd2614b6cbe7f8f3d2e5c728eca32d9eb8a...</td>\n",
       "      <td>0</td>\n",
       "    </tr>\n",
       "    <tr>\n",
       "      <th>...</th>\n",
       "      <td>...</td>\n",
       "      <td>...</td>\n",
       "    </tr>\n",
       "    <tr>\n",
       "      <th>458908</th>\n",
       "      <td>ffff41c8a52833b56430603969b9ca48d208e7c192c6a4...</td>\n",
       "      <td>0</td>\n",
       "    </tr>\n",
       "    <tr>\n",
       "      <th>458909</th>\n",
       "      <td>ffff518bb2075e4816ee3fe9f3b152c57fc0e6f01bf7fd...</td>\n",
       "      <td>0</td>\n",
       "    </tr>\n",
       "    <tr>\n",
       "      <th>458910</th>\n",
       "      <td>ffff9984b999fccb2b6127635ed0736dda94e544e67e02...</td>\n",
       "      <td>0</td>\n",
       "    </tr>\n",
       "    <tr>\n",
       "      <th>458911</th>\n",
       "      <td>ffffa5c46bc8de74f5a4554e74e239c8dee6b9baf38814...</td>\n",
       "      <td>1</td>\n",
       "    </tr>\n",
       "    <tr>\n",
       "      <th>458912</th>\n",
       "      <td>fffff1d38b785cef84adeace64f8f83db3a0c31e8d92ea...</td>\n",
       "      <td>0</td>\n",
       "    </tr>\n",
       "  </tbody>\n",
       "</table>\n",
       "<p>458913 rows × 2 columns</p>\n",
       "</div>"
      ],
      "text/plain": [
       "                                              customer_ID  target\n",
       "0       0000099d6bd597052cdcda90ffabf56573fe9d7c79be5f...       0\n",
       "1       00000fd6641609c6ece5454664794f0340ad84dddce9a2...       0\n",
       "2       00001b22f846c82c51f6e3958ccd81970162bae8b007e8...       0\n",
       "3       000041bdba6ecadd89a52d11886e8eaaec9325906c9723...       0\n",
       "4       00007889e4fcd2614b6cbe7f8f3d2e5c728eca32d9eb8a...       0\n",
       "...                                                   ...     ...\n",
       "458908  ffff41c8a52833b56430603969b9ca48d208e7c192c6a4...       0\n",
       "458909  ffff518bb2075e4816ee3fe9f3b152c57fc0e6f01bf7fd...       0\n",
       "458910  ffff9984b999fccb2b6127635ed0736dda94e544e67e02...       0\n",
       "458911  ffffa5c46bc8de74f5a4554e74e239c8dee6b9baf38814...       1\n",
       "458912  fffff1d38b785cef84adeace64f8f83db3a0c31e8d92ea...       0\n",
       "\n",
       "[458913 rows x 2 columns]"
      ]
     },
     "execution_count": 141,
     "metadata": {},
     "output_type": "execute_result"
    }
   ],
   "source": [
    "train_labels"
   ]
  },
  {
   "cell_type": "code",
   "execution_count": 142,
   "id": "8505003f",
   "metadata": {},
   "outputs": [
    {
     "data": {
      "text/plain": [
       "1"
      ]
     },
     "execution_count": 142,
     "metadata": {},
     "output_type": "execute_result"
    }
   ],
   "source": [
    "# Test that all of the customerIDs are actually unique. In that case, we need max number of \"1\".\n",
    "train_labels.customer_ID.value_counts().max()"
   ]
  },
  {
   "cell_type": "code",
   "execution_count": 143,
   "id": "786f25ea",
   "metadata": {},
   "outputs": [],
   "source": [
    "# Construct another dataframe for the labels with customer ID values. \n",
    "labels = pd.DataFrame()\n",
    "labels['customer_ID'] = customer_ids"
   ]
  },
  {
   "cell_type": "code",
   "execution_count": 144,
   "id": "5522a0fe",
   "metadata": {},
   "outputs": [],
   "source": [
    "# Left join the \n",
    "labels = labels.merge(train_labels, left_on='customer_ID', right_on='customer_ID', how = 'left')"
   ]
  },
  {
   "cell_type": "code",
   "execution_count": 145,
   "id": "eeaf2386",
   "metadata": {},
   "outputs": [
    {
     "data": {
      "text/html": [
       "<div>\n",
       "<style scoped>\n",
       "    .dataframe tbody tr th:only-of-type {\n",
       "        vertical-align: middle;\n",
       "    }\n",
       "\n",
       "    .dataframe tbody tr th {\n",
       "        vertical-align: top;\n",
       "    }\n",
       "\n",
       "    .dataframe thead th {\n",
       "        text-align: right;\n",
       "    }\n",
       "</style>\n",
       "<table border=\"1\" class=\"dataframe\">\n",
       "  <thead>\n",
       "    <tr style=\"text-align: right;\">\n",
       "      <th></th>\n",
       "      <th>customer_ID</th>\n",
       "      <th>target</th>\n",
       "    </tr>\n",
       "  </thead>\n",
       "  <tbody>\n",
       "    <tr>\n",
       "      <th>0</th>\n",
       "      <td>0000099d6bd597052cdcda90ffabf56573fe9d7c79be5f...</td>\n",
       "      <td>0</td>\n",
       "    </tr>\n",
       "    <tr>\n",
       "      <th>1</th>\n",
       "      <td>0000099d6bd597052cdcda90ffabf56573fe9d7c79be5f...</td>\n",
       "      <td>0</td>\n",
       "    </tr>\n",
       "    <tr>\n",
       "      <th>2</th>\n",
       "      <td>0000099d6bd597052cdcda90ffabf56573fe9d7c79be5f...</td>\n",
       "      <td>0</td>\n",
       "    </tr>\n",
       "    <tr>\n",
       "      <th>3</th>\n",
       "      <td>0000099d6bd597052cdcda90ffabf56573fe9d7c79be5f...</td>\n",
       "      <td>0</td>\n",
       "    </tr>\n",
       "    <tr>\n",
       "      <th>4</th>\n",
       "      <td>0000099d6bd597052cdcda90ffabf56573fe9d7c79be5f...</td>\n",
       "      <td>0</td>\n",
       "    </tr>\n",
       "    <tr>\n",
       "      <th>...</th>\n",
       "      <td>...</td>\n",
       "      <td>...</td>\n",
       "    </tr>\n",
       "    <tr>\n",
       "      <th>5531446</th>\n",
       "      <td>fffff1d38b785cef84adeace64f8f83db3a0c31e8d92ea...</td>\n",
       "      <td>0</td>\n",
       "    </tr>\n",
       "    <tr>\n",
       "      <th>5531447</th>\n",
       "      <td>fffff1d38b785cef84adeace64f8f83db3a0c31e8d92ea...</td>\n",
       "      <td>0</td>\n",
       "    </tr>\n",
       "    <tr>\n",
       "      <th>5531448</th>\n",
       "      <td>fffff1d38b785cef84adeace64f8f83db3a0c31e8d92ea...</td>\n",
       "      <td>0</td>\n",
       "    </tr>\n",
       "    <tr>\n",
       "      <th>5531449</th>\n",
       "      <td>fffff1d38b785cef84adeace64f8f83db3a0c31e8d92ea...</td>\n",
       "      <td>0</td>\n",
       "    </tr>\n",
       "    <tr>\n",
       "      <th>5531450</th>\n",
       "      <td>fffff1d38b785cef84adeace64f8f83db3a0c31e8d92ea...</td>\n",
       "      <td>0</td>\n",
       "    </tr>\n",
       "  </tbody>\n",
       "</table>\n",
       "<p>5531451 rows × 2 columns</p>\n",
       "</div>"
      ],
      "text/plain": [
       "                                               customer_ID  target\n",
       "0        0000099d6bd597052cdcda90ffabf56573fe9d7c79be5f...       0\n",
       "1        0000099d6bd597052cdcda90ffabf56573fe9d7c79be5f...       0\n",
       "2        0000099d6bd597052cdcda90ffabf56573fe9d7c79be5f...       0\n",
       "3        0000099d6bd597052cdcda90ffabf56573fe9d7c79be5f...       0\n",
       "4        0000099d6bd597052cdcda90ffabf56573fe9d7c79be5f...       0\n",
       "...                                                    ...     ...\n",
       "5531446  fffff1d38b785cef84adeace64f8f83db3a0c31e8d92ea...       0\n",
       "5531447  fffff1d38b785cef84adeace64f8f83db3a0c31e8d92ea...       0\n",
       "5531448  fffff1d38b785cef84adeace64f8f83db3a0c31e8d92ea...       0\n",
       "5531449  fffff1d38b785cef84adeace64f8f83db3a0c31e8d92ea...       0\n",
       "5531450  fffff1d38b785cef84adeace64f8f83db3a0c31e8d92ea...       0\n",
       "\n",
       "[5531451 rows x 2 columns]"
      ]
     },
     "execution_count": 145,
     "metadata": {},
     "output_type": "execute_result"
    }
   ],
   "source": [
    "labels"
   ]
  },
  {
   "cell_type": "code",
   "execution_count": 146,
   "id": "5ff9539f",
   "metadata": {},
   "outputs": [],
   "source": [
    "# Assign the target values respective to the customerID's and to be continued from here with the XGBoost model and parameter tuning.\n",
    "train_df['target'] = labels['target']\n",
    "train_df['customer_ID'] = labels['customer_ID']"
   ]
  },
  {
   "cell_type": "code",
   "execution_count": 147,
   "id": "f84cd4a1",
   "metadata": {},
   "outputs": [
    {
     "data": {
      "text/html": [
       "<div>\n",
       "<style scoped>\n",
       "    .dataframe tbody tr th:only-of-type {\n",
       "        vertical-align: middle;\n",
       "    }\n",
       "\n",
       "    .dataframe tbody tr th {\n",
       "        vertical-align: top;\n",
       "    }\n",
       "\n",
       "    .dataframe thead th {\n",
       "        text-align: right;\n",
       "    }\n",
       "</style>\n",
       "<table border=\"1\" class=\"dataframe\">\n",
       "  <thead>\n",
       "    <tr style=\"text-align: right;\">\n",
       "      <th></th>\n",
       "      <th>P_2</th>\n",
       "      <th>D_39</th>\n",
       "      <th>B_1</th>\n",
       "      <th>B_2</th>\n",
       "      <th>R_1</th>\n",
       "      <th>S_3</th>\n",
       "      <th>D_41</th>\n",
       "      <th>B_3</th>\n",
       "      <th>D_43</th>\n",
       "      <th>D_44</th>\n",
       "      <th>...</th>\n",
       "      <th>D_117_6.0</th>\n",
       "      <th>D_120_-1</th>\n",
       "      <th>D_120_0.0</th>\n",
       "      <th>D_120_1.0</th>\n",
       "      <th>D_126_-1.0</th>\n",
       "      <th>D_126_-2</th>\n",
       "      <th>D_126_0.0</th>\n",
       "      <th>D_126_1.0</th>\n",
       "      <th>target</th>\n",
       "      <th>customer_ID</th>\n",
       "    </tr>\n",
       "  </thead>\n",
       "  <tbody>\n",
       "    <tr>\n",
       "      <th>0</th>\n",
       "      <td>0.938477</td>\n",
       "      <td>0.001734</td>\n",
       "      <td>0.008728</td>\n",
       "      <td>1.006836</td>\n",
       "      <td>0.009224</td>\n",
       "      <td>0.124023</td>\n",
       "      <td>0.008774</td>\n",
       "      <td>0.004707</td>\n",
       "      <td>0.154684</td>\n",
       "      <td>0.000630</td>\n",
       "      <td>...</td>\n",
       "      <td>0</td>\n",
       "      <td>0</td>\n",
       "      <td>1</td>\n",
       "      <td>0</td>\n",
       "      <td>0</td>\n",
       "      <td>0</td>\n",
       "      <td>0</td>\n",
       "      <td>1</td>\n",
       "      <td>0</td>\n",
       "      <td>0000099d6bd597052cdcda90ffabf56573fe9d7c79be5f...</td>\n",
       "    </tr>\n",
       "    <tr>\n",
       "      <th>1</th>\n",
       "      <td>0.936523</td>\n",
       "      <td>0.005775</td>\n",
       "      <td>0.004925</td>\n",
       "      <td>1.000977</td>\n",
       "      <td>0.006153</td>\n",
       "      <td>0.126709</td>\n",
       "      <td>0.000798</td>\n",
       "      <td>0.002714</td>\n",
       "      <td>0.154684</td>\n",
       "      <td>0.002525</td>\n",
       "      <td>...</td>\n",
       "      <td>0</td>\n",
       "      <td>0</td>\n",
       "      <td>1</td>\n",
       "      <td>0</td>\n",
       "      <td>0</td>\n",
       "      <td>0</td>\n",
       "      <td>0</td>\n",
       "      <td>1</td>\n",
       "      <td>0</td>\n",
       "      <td>0000099d6bd597052cdcda90ffabf56573fe9d7c79be5f...</td>\n",
       "    </tr>\n",
       "    <tr>\n",
       "      <th>2</th>\n",
       "      <td>0.954102</td>\n",
       "      <td>0.091492</td>\n",
       "      <td>0.021652</td>\n",
       "      <td>1.009766</td>\n",
       "      <td>0.006817</td>\n",
       "      <td>0.123962</td>\n",
       "      <td>0.007599</td>\n",
       "      <td>0.009422</td>\n",
       "      <td>0.154684</td>\n",
       "      <td>0.007607</td>\n",
       "      <td>...</td>\n",
       "      <td>0</td>\n",
       "      <td>0</td>\n",
       "      <td>1</td>\n",
       "      <td>0</td>\n",
       "      <td>0</td>\n",
       "      <td>0</td>\n",
       "      <td>0</td>\n",
       "      <td>1</td>\n",
       "      <td>0</td>\n",
       "      <td>0000099d6bd597052cdcda90ffabf56573fe9d7c79be5f...</td>\n",
       "    </tr>\n",
       "    <tr>\n",
       "      <th>3</th>\n",
       "      <td>0.960449</td>\n",
       "      <td>0.002455</td>\n",
       "      <td>0.013687</td>\n",
       "      <td>1.002930</td>\n",
       "      <td>0.001372</td>\n",
       "      <td>0.117188</td>\n",
       "      <td>0.000685</td>\n",
       "      <td>0.005531</td>\n",
       "      <td>0.154684</td>\n",
       "      <td>0.006405</td>\n",
       "      <td>...</td>\n",
       "      <td>0</td>\n",
       "      <td>0</td>\n",
       "      <td>1</td>\n",
       "      <td>0</td>\n",
       "      <td>0</td>\n",
       "      <td>0</td>\n",
       "      <td>0</td>\n",
       "      <td>1</td>\n",
       "      <td>0</td>\n",
       "      <td>0000099d6bd597052cdcda90ffabf56573fe9d7c79be5f...</td>\n",
       "    </tr>\n",
       "    <tr>\n",
       "      <th>4</th>\n",
       "      <td>0.947266</td>\n",
       "      <td>0.002483</td>\n",
       "      <td>0.015190</td>\n",
       "      <td>1.000977</td>\n",
       "      <td>0.007607</td>\n",
       "      <td>0.117310</td>\n",
       "      <td>0.004654</td>\n",
       "      <td>0.009308</td>\n",
       "      <td>0.154684</td>\n",
       "      <td>0.007732</td>\n",
       "      <td>...</td>\n",
       "      <td>0</td>\n",
       "      <td>0</td>\n",
       "      <td>1</td>\n",
       "      <td>0</td>\n",
       "      <td>0</td>\n",
       "      <td>0</td>\n",
       "      <td>0</td>\n",
       "      <td>1</td>\n",
       "      <td>0</td>\n",
       "      <td>0000099d6bd597052cdcda90ffabf56573fe9d7c79be5f...</td>\n",
       "    </tr>\n",
       "    <tr>\n",
       "      <th>...</th>\n",
       "      <td>...</td>\n",
       "      <td>...</td>\n",
       "      <td>...</td>\n",
       "      <td>...</td>\n",
       "      <td>...</td>\n",
       "      <td>...</td>\n",
       "      <td>...</td>\n",
       "      <td>...</td>\n",
       "      <td>...</td>\n",
       "      <td>...</td>\n",
       "      <td>...</td>\n",
       "      <td>...</td>\n",
       "      <td>...</td>\n",
       "      <td>...</td>\n",
       "      <td>...</td>\n",
       "      <td>...</td>\n",
       "      <td>...</td>\n",
       "      <td>...</td>\n",
       "      <td>...</td>\n",
       "      <td>...</td>\n",
       "      <td>...</td>\n",
       "    </tr>\n",
       "    <tr>\n",
       "      <th>5531446</th>\n",
       "      <td>0.979492</td>\n",
       "      <td>0.416016</td>\n",
       "      <td>0.020813</td>\n",
       "      <td>0.828125</td>\n",
       "      <td>0.003487</td>\n",
       "      <td>0.090759</td>\n",
       "      <td>0.005341</td>\n",
       "      <td>0.025146</td>\n",
       "      <td>0.014229</td>\n",
       "      <td>0.002178</td>\n",
       "      <td>...</td>\n",
       "      <td>0</td>\n",
       "      <td>0</td>\n",
       "      <td>1</td>\n",
       "      <td>0</td>\n",
       "      <td>0</td>\n",
       "      <td>0</td>\n",
       "      <td>0</td>\n",
       "      <td>1</td>\n",
       "      <td>0</td>\n",
       "      <td>fffff1d38b785cef84adeace64f8f83db3a0c31e8d92ea...</td>\n",
       "    </tr>\n",
       "    <tr>\n",
       "      <th>5531447</th>\n",
       "      <td>0.984863</td>\n",
       "      <td>0.296631</td>\n",
       "      <td>0.007210</td>\n",
       "      <td>0.812500</td>\n",
       "      <td>0.005905</td>\n",
       "      <td>0.079895</td>\n",
       "      <td>0.002243</td>\n",
       "      <td>0.023697</td>\n",
       "      <td>0.009468</td>\n",
       "      <td>0.005219</td>\n",
       "      <td>...</td>\n",
       "      <td>0</td>\n",
       "      <td>0</td>\n",
       "      <td>1</td>\n",
       "      <td>0</td>\n",
       "      <td>0</td>\n",
       "      <td>0</td>\n",
       "      <td>0</td>\n",
       "      <td>1</td>\n",
       "      <td>0</td>\n",
       "      <td>fffff1d38b785cef84adeace64f8f83db3a0c31e8d92ea...</td>\n",
       "    </tr>\n",
       "    <tr>\n",
       "      <th>5531448</th>\n",
       "      <td>0.982910</td>\n",
       "      <td>0.444092</td>\n",
       "      <td>0.013153</td>\n",
       "      <td>0.815430</td>\n",
       "      <td>0.003456</td>\n",
       "      <td>0.100525</td>\n",
       "      <td>0.002111</td>\n",
       "      <td>0.012344</td>\n",
       "      <td>0.006592</td>\n",
       "      <td>0.002350</td>\n",
       "      <td>...</td>\n",
       "      <td>0</td>\n",
       "      <td>0</td>\n",
       "      <td>1</td>\n",
       "      <td>0</td>\n",
       "      <td>0</td>\n",
       "      <td>0</td>\n",
       "      <td>0</td>\n",
       "      <td>1</td>\n",
       "      <td>0</td>\n",
       "      <td>fffff1d38b785cef84adeace64f8f83db3a0c31e8d92ea...</td>\n",
       "    </tr>\n",
       "    <tr>\n",
       "      <th>5531449</th>\n",
       "      <td>0.969727</td>\n",
       "      <td>0.442627</td>\n",
       "      <td>0.009857</td>\n",
       "      <td>1.003906</td>\n",
       "      <td>0.005116</td>\n",
       "      <td>0.101807</td>\n",
       "      <td>0.009933</td>\n",
       "      <td>0.008575</td>\n",
       "      <td>0.014236</td>\n",
       "      <td>0.006508</td>\n",
       "      <td>...</td>\n",
       "      <td>0</td>\n",
       "      <td>0</td>\n",
       "      <td>1</td>\n",
       "      <td>0</td>\n",
       "      <td>0</td>\n",
       "      <td>0</td>\n",
       "      <td>0</td>\n",
       "      <td>1</td>\n",
       "      <td>0</td>\n",
       "      <td>fffff1d38b785cef84adeace64f8f83db3a0c31e8d92ea...</td>\n",
       "    </tr>\n",
       "    <tr>\n",
       "      <th>5531450</th>\n",
       "      <td>0.981934</td>\n",
       "      <td>0.002474</td>\n",
       "      <td>0.000077</td>\n",
       "      <td>0.992676</td>\n",
       "      <td>0.000809</td>\n",
       "      <td>0.119141</td>\n",
       "      <td>0.003286</td>\n",
       "      <td>0.014091</td>\n",
       "      <td>0.013458</td>\n",
       "      <td>0.006794</td>\n",
       "      <td>...</td>\n",
       "      <td>0</td>\n",
       "      <td>0</td>\n",
       "      <td>1</td>\n",
       "      <td>0</td>\n",
       "      <td>0</td>\n",
       "      <td>0</td>\n",
       "      <td>0</td>\n",
       "      <td>1</td>\n",
       "      <td>0</td>\n",
       "      <td>fffff1d38b785cef84adeace64f8f83db3a0c31e8d92ea...</td>\n",
       "    </tr>\n",
       "  </tbody>\n",
       "</table>\n",
       "<p>5531451 rows × 214 columns</p>\n",
       "</div>"
      ],
      "text/plain": [
       "              P_2      D_39       B_1       B_2       R_1       S_3      D_41  \\\n",
       "0        0.938477  0.001734  0.008728  1.006836  0.009224  0.124023  0.008774   \n",
       "1        0.936523  0.005775  0.004925  1.000977  0.006153  0.126709  0.000798   \n",
       "2        0.954102  0.091492  0.021652  1.009766  0.006817  0.123962  0.007599   \n",
       "3        0.960449  0.002455  0.013687  1.002930  0.001372  0.117188  0.000685   \n",
       "4        0.947266  0.002483  0.015190  1.000977  0.007607  0.117310  0.004654   \n",
       "...           ...       ...       ...       ...       ...       ...       ...   \n",
       "5531446  0.979492  0.416016  0.020813  0.828125  0.003487  0.090759  0.005341   \n",
       "5531447  0.984863  0.296631  0.007210  0.812500  0.005905  0.079895  0.002243   \n",
       "5531448  0.982910  0.444092  0.013153  0.815430  0.003456  0.100525  0.002111   \n",
       "5531449  0.969727  0.442627  0.009857  1.003906  0.005116  0.101807  0.009933   \n",
       "5531450  0.981934  0.002474  0.000077  0.992676  0.000809  0.119141  0.003286   \n",
       "\n",
       "              B_3      D_43      D_44  ...  D_117_6.0  D_120_-1  D_120_0.0  \\\n",
       "0        0.004707  0.154684  0.000630  ...          0         0          1   \n",
       "1        0.002714  0.154684  0.002525  ...          0         0          1   \n",
       "2        0.009422  0.154684  0.007607  ...          0         0          1   \n",
       "3        0.005531  0.154684  0.006405  ...          0         0          1   \n",
       "4        0.009308  0.154684  0.007732  ...          0         0          1   \n",
       "...           ...       ...       ...  ...        ...       ...        ...   \n",
       "5531446  0.025146  0.014229  0.002178  ...          0         0          1   \n",
       "5531447  0.023697  0.009468  0.005219  ...          0         0          1   \n",
       "5531448  0.012344  0.006592  0.002350  ...          0         0          1   \n",
       "5531449  0.008575  0.014236  0.006508  ...          0         0          1   \n",
       "5531450  0.014091  0.013458  0.006794  ...          0         0          1   \n",
       "\n",
       "         D_120_1.0  D_126_-1.0  D_126_-2  D_126_0.0  D_126_1.0  target  \\\n",
       "0                0           0         0          0          1       0   \n",
       "1                0           0         0          0          1       0   \n",
       "2                0           0         0          0          1       0   \n",
       "3                0           0         0          0          1       0   \n",
       "4                0           0         0          0          1       0   \n",
       "...            ...         ...       ...        ...        ...     ...   \n",
       "5531446          0           0         0          0          1       0   \n",
       "5531447          0           0         0          0          1       0   \n",
       "5531448          0           0         0          0          1       0   \n",
       "5531449          0           0         0          0          1       0   \n",
       "5531450          0           0         0          0          1       0   \n",
       "\n",
       "                                               customer_ID  \n",
       "0        0000099d6bd597052cdcda90ffabf56573fe9d7c79be5f...  \n",
       "1        0000099d6bd597052cdcda90ffabf56573fe9d7c79be5f...  \n",
       "2        0000099d6bd597052cdcda90ffabf56573fe9d7c79be5f...  \n",
       "3        0000099d6bd597052cdcda90ffabf56573fe9d7c79be5f...  \n",
       "4        0000099d6bd597052cdcda90ffabf56573fe9d7c79be5f...  \n",
       "...                                                    ...  \n",
       "5531446  fffff1d38b785cef84adeace64f8f83db3a0c31e8d92ea...  \n",
       "5531447  fffff1d38b785cef84adeace64f8f83db3a0c31e8d92ea...  \n",
       "5531448  fffff1d38b785cef84adeace64f8f83db3a0c31e8d92ea...  \n",
       "5531449  fffff1d38b785cef84adeace64f8f83db3a0c31e8d92ea...  \n",
       "5531450  fffff1d38b785cef84adeace64f8f83db3a0c31e8d92ea...  \n",
       "\n",
       "[5531451 rows x 214 columns]"
      ]
     },
     "execution_count": 147,
     "metadata": {},
     "output_type": "execute_result"
    }
   ],
   "source": [
    "train_df"
   ]
  },
  {
   "cell_type": "markdown",
   "id": "6a90eb94",
   "metadata": {},
   "source": [
    "# Division of train data in to train/validation sets."
   ]
  },
  {
   "cell_type": "code",
   "execution_count": 148,
   "id": "fa2dbb72",
   "metadata": {},
   "outputs": [
    {
     "data": {
      "text/plain": [
       "458913"
      ]
     },
     "execution_count": 148,
     "metadata": {},
     "output_type": "execute_result"
    }
   ],
   "source": [
    "#lets see how many unique customer we have.\n",
    "train_df.customer_ID.unique().shape[0]"
   ]
  },
  {
   "cell_type": "code",
   "execution_count": 149,
   "id": "aef11a1f",
   "metadata": {},
   "outputs": [],
   "source": [
    "# We can divide the customers by 80/20 pareto, or we can do the same for the row numbers.\n",
    "# I will divide based on customer IDs as starters. We can change it to row numbers afterwards."
   ]
  },
  {
   "cell_type": "code",
   "execution_count": 150,
   "id": "697d9610",
   "metadata": {},
   "outputs": [
    {
     "name": "stdout",
     "output_type": "stream",
     "text": [
      "Get the first 367130 as the train set\n",
      "Get the last 91782 as the validation set\n"
     ]
    }
   ],
   "source": [
    "# find the divident point.\n",
    "print(\"Get the first %d as the train set\" %(train_df.customer_ID.unique().shape[0] * 80 / 100))\n",
    "print(\"Get the last %d as the validation set\" %(train_df.customer_ID.unique().shape[0] * 20 / 100))\n",
    "\n",
    "train_set_shape = train_df.customer_ID.unique().shape[0] * 80 / 100"
   ]
  },
  {
   "cell_type": "code",
   "execution_count": 151,
   "id": "fdd59e3b",
   "metadata": {},
   "outputs": [],
   "source": [
    "# Get your train and validation sets.\n",
    "train_set = train_df[train_df.customer_ID.isin(list(train_df.customer_ID.unique())[0:int(train_set_shape)])]\n",
    "val_set = train_df[~train_df.customer_ID.isin(list(train_df.customer_ID.unique())[0:int(train_set_shape)])]"
   ]
  },
  {
   "cell_type": "code",
   "execution_count": 152,
   "id": "b4d09b69",
   "metadata": {},
   "outputs": [
    {
     "data": {
      "text/plain": [
       "367130"
      ]
     },
     "execution_count": 152,
     "metadata": {},
     "output_type": "execute_result"
    }
   ],
   "source": [
    "# Double check the number of customers. Seems correct.\n",
    "train_set.customer_ID.unique().shape[0]"
   ]
  },
  {
   "cell_type": "code",
   "execution_count": 153,
   "id": "ef9d58b2",
   "metadata": {},
   "outputs": [],
   "source": [
    "# There is one number of difference because when we divide we *floored* the double values in to integer.\n",
    "val_set.customer_ID.unique().shape[0]\n",
    "val_set_cust_ID = val_set.customer_ID"
   ]
  },
  {
   "cell_type": "code",
   "execution_count": 154,
   "id": "f0ca0c64",
   "metadata": {},
   "outputs": [],
   "source": [
    "# Let's get our train_x, train_y, val_x and val_y and delete unnecessary data to relax the memory.\n",
    "\n",
    "train_x = train_set.drop([\"customer_ID\", \"target\"], axis = 1)\n",
    "train_y = train_set.target\n",
    "val_x = val_set.drop([\"customer_ID\", \"target\"], axis = 1)\n",
    "val_y = val_set.target\n",
    "\n",
    "del train_df\n",
    "del train_set\n",
    "del val_set"
   ]
  },
  {
   "cell_type": "code",
   "execution_count": 155,
   "id": "358231f1",
   "metadata": {},
   "outputs": [],
   "source": [
    "# Set the indexes again for the val_x and val_y because we have divided the data and didn't set the indexes. \n",
    "val_x.reset_index(drop=True, inplace = True)\n",
    "val_y.reset_index(drop=True, inplace = True)"
   ]
  },
  {
   "cell_type": "markdown",
   "id": "ebce9eef",
   "metadata": {},
   "source": [
    "# Insert your ML Model here."
   ]
  },
  {
   "cell_type": "code",
   "execution_count": null,
   "id": "f7c4ba85",
   "metadata": {},
   "outputs": [
    {
     "name": "stdout",
     "output_type": "stream",
     "text": [
      "[07:51:47] WARNING: ..\\src\\learner.cc:1095: Starting in XGBoost 1.3.0, the default evaluation metric used with the objective 'binary:logistic' was changed from 'error' to 'logloss'. Explicitly set eval_metric if you'd like to restore the old behavior.\n"
     ]
    }
   ],
   "source": [
    "# Define your model and train with train_x, train_y\n",
    "# I will go for GBM/XGBoost (https://xgboost.readthedocs.io/en/stable/index.html)\n",
    "model = XGBClassifier(booster = 'dart', \n",
    "                      eta = 0.1, \n",
    "                      gamma = 0.3, \n",
    "                      max_depth = 5, \n",
    "                      sampling_method = 'gradient_based',\n",
    "                      reg_lambda = 0.2,\n",
    "                      alpha = 0.2)\n",
    "\n",
    "model.fit(train_x, train_y)\n",
    "\n",
    "# make predictions for validation data\n",
    "val_hat = model.predict(val_x)\n",
    "val_hat_proba = model.predict_proba(val_x)"
   ]
  },
  {
   "cell_type": "code",
   "execution_count": 83,
   "id": "90763d3d",
   "metadata": {},
   "outputs": [],
   "source": [
    "# Save the model since it takes long time to train one model...\n",
    "pickle.dump(model, open(model_path + \"xgb_initial.pkl\", \"wb\"))"
   ]
  },
  {
   "cell_type": "code",
   "execution_count": 157,
   "id": "58a94cd1",
   "metadata": {},
   "outputs": [],
   "source": [
    "#Custom Metric from competition providers.\n",
    "\n",
    "def amex_metric(y_true: pd.DataFrame, y_pred: pd.DataFrame) -> float:\n",
    "\n",
    "    def top_four_percent_captured(y_true: pd.DataFrame, y_pred: pd.DataFrame) -> float:\n",
    "        df = (pd.concat([y_true, y_pred], axis='columns')\n",
    "              .sort_values('prediction', ascending=False))\n",
    "        df['weight'] = df['target'].apply(lambda x: 20 if x==0 else 1)\n",
    "        four_pct_cutoff = int(0.04 * df['weight'].sum())\n",
    "        df['weight_cumsum'] = df['weight'].cumsum()\n",
    "        df_cutoff = df.loc[df['weight_cumsum'] <= four_pct_cutoff]\n",
    "        return (df_cutoff['target'] == 1).sum() / (df['target'] == 1).sum()\n",
    "        \n",
    "    def weighted_gini(y_true: pd.DataFrame, y_pred: pd.DataFrame) -> float:\n",
    "        df = (pd.concat([y_true, y_pred], axis='columns')\n",
    "              .sort_values('prediction', ascending=False))\n",
    "        df['weight'] = df['target'].apply(lambda x: 20 if x==0 else 1)\n",
    "        df['random'] = (df['weight'] / df['weight'].sum()).cumsum()\n",
    "        total_pos = (df['target'] * df['weight']).sum()\n",
    "        df['cum_pos_found'] = (df['target'] * df['weight']).cumsum()\n",
    "        df['lorentz'] = df['cum_pos_found'] / total_pos\n",
    "        df['gini'] = (df['lorentz'] - df['random']) * df['weight']\n",
    "        return df['gini'].sum()\n",
    "\n",
    "    def normalized_weighted_gini(y_true: pd.DataFrame, y_pred: pd.DataFrame) -> float:\n",
    "        y_true_pred = y_true.rename(columns={'target': 'prediction'})\n",
    "        return weighted_gini(y_true, y_pred) / weighted_gini(y_true, y_true_pred)\n",
    "\n",
    "    g = normalized_weighted_gini(y_true, y_pred)\n",
    "    d = top_four_percent_captured(y_true, y_pred)\n",
    "\n",
    "    return 0.5 * (g + d)"
   ]
  },
  {
   "cell_type": "code",
   "execution_count": 193,
   "id": "8bf41277",
   "metadata": {},
   "outputs": [],
   "source": [
    "val_set_cust_ID.reset_index(drop=True, inplace = True)"
   ]
  },
  {
   "cell_type": "code",
   "execution_count": 194,
   "id": "09603fbe",
   "metadata": {},
   "outputs": [
    {
     "data": {
      "text/html": [
       "<div>\n",
       "<style scoped>\n",
       "    .dataframe tbody tr th:only-of-type {\n",
       "        vertical-align: middle;\n",
       "    }\n",
       "\n",
       "    .dataframe tbody tr th {\n",
       "        vertical-align: top;\n",
       "    }\n",
       "\n",
       "    .dataframe thead th {\n",
       "        text-align: right;\n",
       "    }\n",
       "</style>\n",
       "<table border=\"1\" class=\"dataframe\">\n",
       "  <thead>\n",
       "    <tr style=\"text-align: right;\">\n",
       "      <th></th>\n",
       "      <th>target</th>\n",
       "    </tr>\n",
       "    <tr>\n",
       "      <th>customer_ID</th>\n",
       "      <th></th>\n",
       "    </tr>\n",
       "  </thead>\n",
       "  <tbody>\n",
       "    <tr>\n",
       "      <th>cc8b10931bb8a34fefa8ce9dd70b0ff91a525b839569faefd94d1f7c8d77e27c</th>\n",
       "      <td>0</td>\n",
       "    </tr>\n",
       "    <tr>\n",
       "      <th>cc8b27a50901366262e6684b8f98e0127b7f713640d7f076138b6ab260e919e7</th>\n",
       "      <td>0</td>\n",
       "    </tr>\n",
       "    <tr>\n",
       "      <th>cc8b3bdc5a2ccc4a97c8c7bf9bc568eeb74b541cde5428c4888059906e961ac4</th>\n",
       "      <td>1</td>\n",
       "    </tr>\n",
       "    <tr>\n",
       "      <th>cc8b7e67b9d04662e4bfb3e86778b1bc4b0bc8e4bec9555efb6e31f97749f7f9</th>\n",
       "      <td>1</td>\n",
       "    </tr>\n",
       "    <tr>\n",
       "      <th>cc8b820d99341b60f83dcf637865a3c1e613a92072c18897e034c567e11581e4</th>\n",
       "      <td>0</td>\n",
       "    </tr>\n",
       "    <tr>\n",
       "      <th>...</th>\n",
       "      <td>...</td>\n",
       "    </tr>\n",
       "    <tr>\n",
       "      <th>ffff41c8a52833b56430603969b9ca48d208e7c192c6a4081a6acc28cf4f8af7</th>\n",
       "      <td>0</td>\n",
       "    </tr>\n",
       "    <tr>\n",
       "      <th>ffff518bb2075e4816ee3fe9f3b152c57fc0e6f01bf7fdd3e5b57cfcbee30286</th>\n",
       "      <td>0</td>\n",
       "    </tr>\n",
       "    <tr>\n",
       "      <th>ffff9984b999fccb2b6127635ed0736dda94e544e67e026eee4d20f680639ff6</th>\n",
       "      <td>0</td>\n",
       "    </tr>\n",
       "    <tr>\n",
       "      <th>ffffa5c46bc8de74f5a4554e74e239c8dee6b9baf388145b2c3d01967fcce461</th>\n",
       "      <td>1</td>\n",
       "    </tr>\n",
       "    <tr>\n",
       "      <th>fffff1d38b785cef84adeace64f8f83db3a0c31e8d92eaba8b115f71cab04681</th>\n",
       "      <td>0</td>\n",
       "    </tr>\n",
       "  </tbody>\n",
       "</table>\n",
       "<p>91783 rows × 1 columns</p>\n",
       "</div>"
      ],
      "text/plain": [
       "                                                    target\n",
       "customer_ID                                               \n",
       "cc8b10931bb8a34fefa8ce9dd70b0ff91a525b839569fae...       0\n",
       "cc8b27a50901366262e6684b8f98e0127b7f713640d7f07...       0\n",
       "cc8b3bdc5a2ccc4a97c8c7bf9bc568eeb74b541cde5428c...       1\n",
       "cc8b7e67b9d04662e4bfb3e86778b1bc4b0bc8e4bec9555...       1\n",
       "cc8b820d99341b60f83dcf637865a3c1e613a92072c1889...       0\n",
       "...                                                    ...\n",
       "ffff41c8a52833b56430603969b9ca48d208e7c192c6a40...       0\n",
       "ffff518bb2075e4816ee3fe9f3b152c57fc0e6f01bf7fdd...       0\n",
       "ffff9984b999fccb2b6127635ed0736dda94e544e67e026...       0\n",
       "ffffa5c46bc8de74f5a4554e74e239c8dee6b9baf388145...       1\n",
       "fffff1d38b785cef84adeace64f8f83db3a0c31e8d92eab...       0\n",
       "\n",
       "[91783 rows x 1 columns]"
      ]
     },
     "execution_count": 194,
     "metadata": {},
     "output_type": "execute_result"
    }
   ],
   "source": [
    "train_labels = pd.read_csv(path + 'train_labels.csv')\n",
    "\n",
    "train_labels = train_labels[train_labels.customer_ID.isin(val_set_cust_ID.unique())]\n",
    "\n",
    "train_labels.set_index(\"customer_ID\", inplace = True)\n",
    "\n",
    "train_labels"
   ]
  },
  {
   "cell_type": "code",
   "execution_count": 214,
   "id": "b2582994",
   "metadata": {},
   "outputs": [
    {
     "data": {
      "text/plain": [
       "array([[0.55453813, 0.44546187],\n",
       "       [0.53337723, 0.46662277],\n",
       "       [0.53239393, 0.46760607],\n",
       "       ...,\n",
       "       [0.9962114 , 0.00378861],\n",
       "       [0.9969147 , 0.00308529],\n",
       "       [0.9958587 , 0.00414127]], dtype=float32)"
      ]
     },
     "execution_count": 214,
     "metadata": {},
     "output_type": "execute_result"
    }
   ],
   "source": [
    "val_hat_proba = model.predict_proba(val_x)\n",
    "val_hat_proba"
   ]
  },
  {
   "cell_type": "code",
   "execution_count": 228,
   "id": "08c20f07",
   "metadata": {},
   "outputs": [],
   "source": [
    "val_hat_df = pd.DataFrame()\n",
    "val_hat_df['customer_ID'] = val_set_cust_ID\n",
    "val_hat_df['prediction'] = val_hat_proba[:, 0]\n",
    "val_hat_df.set_index('customer_ID', inplace = True)"
   ]
  },
  {
   "cell_type": "code",
   "execution_count": 229,
   "id": "f6f6ea77",
   "metadata": {},
   "outputs": [],
   "source": [
    "val_hat_df = (val_hat_df\n",
    "          .groupby('customer_ID')\n",
    "          .mean())\n",
    "\n",
    "# Scale the mean P_2 by the max value and take the compliment\n",
    "val_hat_df['prediction'] = 1.0 - (val_hat_df['prediction'] / val_hat_df['prediction'].max())"
   ]
  },
  {
   "cell_type": "code",
   "execution_count": 230,
   "id": "b3e0daf7",
   "metadata": {},
   "outputs": [],
   "source": [
    "val_y_df = (val_y_df\n",
    "          .groupby('customer_ID')\n",
    "          .mean())"
   ]
  },
  {
   "cell_type": "code",
   "execution_count": 231,
   "id": "4855d412",
   "metadata": {},
   "outputs": [
    {
     "data": {
      "text/html": [
       "<div>\n",
       "<style scoped>\n",
       "    .dataframe tbody tr th:only-of-type {\n",
       "        vertical-align: middle;\n",
       "    }\n",
       "\n",
       "    .dataframe tbody tr th {\n",
       "        vertical-align: top;\n",
       "    }\n",
       "\n",
       "    .dataframe thead th {\n",
       "        text-align: right;\n",
       "    }\n",
       "</style>\n",
       "<table border=\"1\" class=\"dataframe\">\n",
       "  <thead>\n",
       "    <tr style=\"text-align: right;\">\n",
       "      <th></th>\n",
       "      <th>target</th>\n",
       "    </tr>\n",
       "    <tr>\n",
       "      <th>customer_ID</th>\n",
       "      <th></th>\n",
       "    </tr>\n",
       "  </thead>\n",
       "  <tbody>\n",
       "    <tr>\n",
       "      <th>cc8b10931bb8a34fefa8ce9dd70b0ff91a525b839569faefd94d1f7c8d77e27c</th>\n",
       "      <td>0</td>\n",
       "    </tr>\n",
       "    <tr>\n",
       "      <th>cc8b27a50901366262e6684b8f98e0127b7f713640d7f076138b6ab260e919e7</th>\n",
       "      <td>0</td>\n",
       "    </tr>\n",
       "    <tr>\n",
       "      <th>cc8b3bdc5a2ccc4a97c8c7bf9bc568eeb74b541cde5428c4888059906e961ac4</th>\n",
       "      <td>1</td>\n",
       "    </tr>\n",
       "    <tr>\n",
       "      <th>cc8b7e67b9d04662e4bfb3e86778b1bc4b0bc8e4bec9555efb6e31f97749f7f9</th>\n",
       "      <td>1</td>\n",
       "    </tr>\n",
       "    <tr>\n",
       "      <th>cc8b820d99341b60f83dcf637865a3c1e613a92072c18897e034c567e11581e4</th>\n",
       "      <td>0</td>\n",
       "    </tr>\n",
       "    <tr>\n",
       "      <th>...</th>\n",
       "      <td>...</td>\n",
       "    </tr>\n",
       "    <tr>\n",
       "      <th>ffff41c8a52833b56430603969b9ca48d208e7c192c6a4081a6acc28cf4f8af7</th>\n",
       "      <td>0</td>\n",
       "    </tr>\n",
       "    <tr>\n",
       "      <th>ffff518bb2075e4816ee3fe9f3b152c57fc0e6f01bf7fdd3e5b57cfcbee30286</th>\n",
       "      <td>0</td>\n",
       "    </tr>\n",
       "    <tr>\n",
       "      <th>ffff9984b999fccb2b6127635ed0736dda94e544e67e026eee4d20f680639ff6</th>\n",
       "      <td>0</td>\n",
       "    </tr>\n",
       "    <tr>\n",
       "      <th>ffffa5c46bc8de74f5a4554e74e239c8dee6b9baf388145b2c3d01967fcce461</th>\n",
       "      <td>1</td>\n",
       "    </tr>\n",
       "    <tr>\n",
       "      <th>fffff1d38b785cef84adeace64f8f83db3a0c31e8d92eaba8b115f71cab04681</th>\n",
       "      <td>0</td>\n",
       "    </tr>\n",
       "  </tbody>\n",
       "</table>\n",
       "<p>91783 rows × 1 columns</p>\n",
       "</div>"
      ],
      "text/plain": [
       "                                                    target\n",
       "customer_ID                                               \n",
       "cc8b10931bb8a34fefa8ce9dd70b0ff91a525b839569fae...       0\n",
       "cc8b27a50901366262e6684b8f98e0127b7f713640d7f07...       0\n",
       "cc8b3bdc5a2ccc4a97c8c7bf9bc568eeb74b541cde5428c...       1\n",
       "cc8b7e67b9d04662e4bfb3e86778b1bc4b0bc8e4bec9555...       1\n",
       "cc8b820d99341b60f83dcf637865a3c1e613a92072c1889...       0\n",
       "...                                                    ...\n",
       "ffff41c8a52833b56430603969b9ca48d208e7c192c6a40...       0\n",
       "ffff518bb2075e4816ee3fe9f3b152c57fc0e6f01bf7fdd...       0\n",
       "ffff9984b999fccb2b6127635ed0736dda94e544e67e026...       0\n",
       "ffffa5c46bc8de74f5a4554e74e239c8dee6b9baf388145...       1\n",
       "fffff1d38b785cef84adeace64f8f83db3a0c31e8d92eab...       0\n",
       "\n",
       "[91783 rows x 1 columns]"
      ]
     },
     "execution_count": 231,
     "metadata": {},
     "output_type": "execute_result"
    }
   ],
   "source": [
    "val_y_df"
   ]
  },
  {
   "cell_type": "code",
   "execution_count": 232,
   "id": "df93ec06",
   "metadata": {},
   "outputs": [
    {
     "data": {
      "text/plain": [
       "0.7087708933071069"
      ]
     },
     "execution_count": 232,
     "metadata": {},
     "output_type": "execute_result"
    }
   ],
   "source": [
    "amex_metric(val_y_df, val_hat_df)"
   ]
  },
  {
   "cell_type": "code",
   "execution_count": null,
   "id": "51a9427a",
   "metadata": {},
   "outputs": [],
   "source": []
  }
 ],
 "metadata": {
  "kernelspec": {
   "display_name": "Python 3",
   "language": "python",
   "name": "python3"
  },
  "language_info": {
   "codemirror_mode": {
    "name": "ipython",
    "version": 3
   },
   "file_extension": ".py",
   "mimetype": "text/x-python",
   "name": "python",
   "nbconvert_exporter": "python",
   "pygments_lexer": "ipython3",
   "version": "3.8.8"
  }
 },
 "nbformat": 4,
 "nbformat_minor": 5
}
